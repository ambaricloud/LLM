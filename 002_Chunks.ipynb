{
 "cells": [
  {
   "cell_type": "code",
   "execution_count": 1,
   "id": "3ab33e2f",
   "metadata": {},
   "outputs": [
    {
     "name": "stderr",
     "output_type": "stream",
     "text": [
      "USER_AGENT environment variable not set, consider setting it to identify your requests.\n"
     ]
    }
   ],
   "source": [
    "import langchain\n",
    "import os\n",
    "from langchain.document_loaders import WebBaseLoader\n",
    "from langchain.text_splitter import RecursiveCharacterTextSplitter\n",
    "from langchain.document_loaders import JSONLoader,PyPDFDirectoryLoader\n",
    "from langchain.document_loaders import PyPDFLoader"
   ]
  },
  {
   "cell_type": "markdown",
   "id": "14d95d1e",
   "metadata": {},
   "source": [
    "# PDF\n",
    "# splits each invoice as one document."
   ]
  },
  {
   "cell_type": "code",
   "execution_count": 2,
   "id": "23b00f9e",
   "metadata": {},
   "outputs": [],
   "source": [
    "from langchain.document_loaders import PyPDFLoader\n",
    "\n",
    "loader = PyPDFLoader(\"/Users/satyak/iceberg/milvus/class/invoices/Invoice_2022_04.pdf\")\n",
    "pages = loader.load_and_split()"
   ]
  },
  {
   "cell_type": "code",
   "execution_count": 3,
   "id": "018b4b4f",
   "metadata": {},
   "outputs": [
    {
     "data": {
      "text/plain": [
       "1"
      ]
     },
     "execution_count": 3,
     "metadata": {},
     "output_type": "execute_result"
    }
   ],
   "source": [
    "len(pages)"
   ]
  },
  {
   "cell_type": "code",
   "execution_count": 7,
   "id": "70c1096d",
   "metadata": {},
   "outputs": [
    {
     "data": {
      "text/plain": [
       "[Document(metadata={'source': '/Users/satyak/iceberg/milvus/class/invoices/Invoice_2022_04.pdf', 'page': 0}, page_content='Date:  04/22/2022 \\nAbc, Inc      \\n1111, abc St     \\nNapervillw, IL, 60567    \\nwww.sales.com \\nE-mail: ksbob@gmail.com \\n \\nPhone (630) 340-9704 \\nTax ID Number: 99-123456 \\nInvoice#: MW_2022-04 \\n \\nBill To:  \\nxyz are LLC and its Affiliates  \\n3456 Exchange Ste 345  \\nIrvine, California 92602 \\n \\n \\nDescription Unit Rate Amount \\nRam Sam \\nConsulting work provided for the month of April,2022 1 $5000.00 $5000.00 \\nKrishna Bob \\nConsulting work provided for the month of April,2022 1 $12,000.0\\n0 $12,000.00 \\n  Total $17, 000.00')]"
      ]
     },
     "execution_count": 7,
     "metadata": {},
     "output_type": "execute_result"
    }
   ],
   "source": [
    "pages"
   ]
  },
  {
   "cell_type": "markdown",
   "id": "b390c7a1",
   "metadata": {},
   "source": [
    "### Test various chunk Size and Overlaps"
   ]
  },
  {
   "cell_type": "code",
   "execution_count": null,
   "id": "ac248d79",
   "metadata": {},
   "outputs": [],
   "source": [
    "#500\n",
    "#300\n",
    "#200\n",
    "#Overlap:\n",
    "#0\n",
    "#10\n",
    "#20"
   ]
  },
  {
   "cell_type": "code",
   "execution_count": 17,
   "id": "fc156954",
   "metadata": {},
   "outputs": [],
   "source": [
    "text_splitter = RecursiveCharacterTextSplitter(\n",
    "    chunk_size = 200,\n",
    "    chunk_overlap  = 50,\n",
    "    length_function = len, ##\n",
    "    add_start_index = True,\n",
    ")"
   ]
  },
  {
   "cell_type": "code",
   "execution_count": 18,
   "id": "90c55597",
   "metadata": {},
   "outputs": [],
   "source": [
    "all_splits = text_splitter.split_documents(pages)"
   ]
  },
  {
   "cell_type": "code",
   "execution_count": 19,
   "id": "5bda5d96",
   "metadata": {},
   "outputs": [
    {
     "data": {
      "text/plain": [
       "[Document(metadata={'source': '/Users/satyak/iceberg/milvus/class/invoices/Invoice_2022_04.pdf', 'page': 0, 'start_index': 0}, page_content='Date:  04/22/2022 \\nAbc, Inc      \\n1111, abc St     \\nNapervillw, IL, 60567    \\nwww.sales.com \\nE-mail: ksbob@gmail.com \\n \\nPhone (630) 340-9704 \\nTax ID Number: 99-123456 \\nInvoice#: MW_2022-04'),\n",
       " Document(metadata={'source': '/Users/satyak/iceberg/milvus/class/invoices/Invoice_2022_04.pdf', 'page': 0, 'start_index': 142}, page_content='Tax ID Number: 99-123456 \\nInvoice#: MW_2022-04 \\n \\nBill To:  \\nxyz are LLC and its Affiliates  \\n3456 Exchange Ste 345  \\nIrvine, California 92602 \\n \\n \\nDescription Unit Rate Amount \\nRam Sam'),\n",
       " Document(metadata={'source': '/Users/satyak/iceberg/milvus/class/invoices/Invoice_2022_04.pdf', 'page': 0, 'start_index': 290}, page_content='Description Unit Rate Amount \\nRam Sam \\nConsulting work provided for the month of April,2022 1 $5000.00 $5000.00 \\nKrishna Bob \\nConsulting work provided for the month of April,2022 1 $12,000.0'),\n",
       " Document(metadata={'source': '/Users/satyak/iceberg/milvus/class/invoices/Invoice_2022_04.pdf', 'page': 0, 'start_index': 481}, page_content='0 $12,000.00 \\n  Total $17, 000.00')]"
      ]
     },
     "execution_count": 19,
     "metadata": {},
     "output_type": "execute_result"
    }
   ],
   "source": [
    "all_splits"
   ]
  },
  {
   "cell_type": "code",
   "execution_count": 20,
   "id": "65fd6726",
   "metadata": {},
   "outputs": [
    {
     "data": {
      "text/plain": [
       "4"
      ]
     },
     "execution_count": 20,
     "metadata": {},
     "output_type": "execute_result"
    }
   ],
   "source": [
    "len(all_splits)"
   ]
  },
  {
   "cell_type": "code",
   "execution_count": 21,
   "id": "be2a6825",
   "metadata": {},
   "outputs": [
    {
     "data": {
      "text/plain": [
       "'Date:  04/22/2022 \\nAbc, Inc      \\n1111, abc St     \\nNapervillw, IL, 60567    \\nwww.sales.com \\nE-mail: ksbob@gmail.com \\n \\nPhone (630) 340-9704 \\nTax ID Number: 99-123456 \\nInvoice#: MW_2022-04'"
      ]
     },
     "execution_count": 21,
     "metadata": {},
     "output_type": "execute_result"
    }
   ],
   "source": [
    "all_splits[0].page_content"
   ]
  },
  {
   "cell_type": "code",
   "execution_count": 22,
   "id": "f58f04cd",
   "metadata": {},
   "outputs": [
    {
     "data": {
      "text/plain": [
       "'Tax ID Number: 99-123456 \\nInvoice#: MW_2022-04 \\n \\nBill To:  \\nxyz are LLC and its Affiliates  \\n3456 Exchange Ste 345  \\nIrvine, California 92602 \\n \\n \\nDescription Unit Rate Amount \\nRam Sam'"
      ]
     },
     "execution_count": 22,
     "metadata": {},
     "output_type": "execute_result"
    }
   ],
   "source": [
    "all_splits[1].page_content"
   ]
  },
  {
   "cell_type": "code",
   "execution_count": 24,
   "id": "eb15624a",
   "metadata": {},
   "outputs": [
    {
     "data": {
      "text/plain": [
       "{'source': '/Users/satyak/iceberg/milvus/class/invoices/Invoice_2022_04.pdf',\n",
       " 'page': 0,\n",
       " 'start_index': 0}"
      ]
     },
     "execution_count": 24,
     "metadata": {},
     "output_type": "execute_result"
    }
   ],
   "source": [
    "all_splits[0].metadata"
   ]
  },
  {
   "cell_type": "code",
   "execution_count": 25,
   "id": "b1f44eef",
   "metadata": {},
   "outputs": [
    {
     "data": {
      "text/plain": [
       "{'source': '/Users/satyak/iceberg/milvus/class/invoices/Invoice_2022_04.pdf',\n",
       " 'page': 0,\n",
       " 'start_index': 142}"
      ]
     },
     "execution_count": 25,
     "metadata": {},
     "output_type": "execute_result"
    }
   ],
   "source": [
    "all_splits[1].metadata"
   ]
  },
  {
   "cell_type": "code",
   "execution_count": 26,
   "id": "96732996",
   "metadata": {},
   "outputs": [],
   "source": [
    "from langchain.document_loaders import PyPDFLoader\n",
    "\n",
    "loader = PyPDFDirectoryLoader(\"/Users/satyak/iceberg/milvus/class/invoices/\")\n",
    "pages = loader.load_and_split()"
   ]
  },
  {
   "cell_type": "code",
   "execution_count": 27,
   "id": "7a80d469",
   "metadata": {},
   "outputs": [
    {
     "data": {
      "text/plain": [
       "13"
      ]
     },
     "execution_count": 27,
     "metadata": {},
     "output_type": "execute_result"
    }
   ],
   "source": [
    "len(pages)"
   ]
  },
  {
   "cell_type": "code",
   "execution_count": 28,
   "id": "945314da",
   "metadata": {},
   "outputs": [
    {
     "data": {
      "text/plain": [
       "\"Anil Koripelly:  Open Lakehouse Iceberg: 108 Recipes by Satya Kondapalli and Ravi Gurram is a thoughtfully crafted \\n and highly practical guide for data professionals looking to harness the full potential of Apache \\n Iceberg. With its recipe-style structure, the book expertly bridges foundational concepts and \\n advanced techniques, making it an accessible and comprehensive resource for both novices and \\n seasoned data engineers. The authors have taken time to list our the differences between hive and \\n iceberg is our paramount help for firms that are moving from hive to iceberg \\n The authors excel in providing actionable solutions to real-world challenges, covering topics such as \\n schema evolution, partitioning, metadata management, and integration with tools like Hive, \\n Snowflake, and AWS Glue. What sets this book apart is its focus on practical applications, offering \\n clear step-by-step instructions paired with insights into modern data architectures like Open \\n Lakehouse. \\n Written with clarity and passion, this book reflects the authors' deep expertise and commitment to \\n empowering the data community. It’s an invaluable reference for anyone aiming to build robust, \\n scalable, and future-ready data ecosystems. Whether you’re migrating from legacy systems or \\n optimizing workflows, this guide is a must-read. Thank you Satya for giving me an opportunity to be \\n one of the first to review the recipes and I thoroughly enjoyed reading and trying out many recipes. \\n Sincerely, \\n Anil \\n https://www.linkedin.com/in/anil-koripelly-684bbba/\""
      ]
     },
     "execution_count": 28,
     "metadata": {},
     "output_type": "execute_result"
    }
   ],
   "source": [
    "pages[8].page_content"
   ]
  },
  {
   "cell_type": "code",
   "execution_count": 29,
   "id": "b1cd6fc6",
   "metadata": {},
   "outputs": [],
   "source": [
    "splits = text_splitter.split_documents(pages)"
   ]
  },
  {
   "cell_type": "code",
   "execution_count": 30,
   "id": "52b6f3e7",
   "metadata": {},
   "outputs": [
    {
     "data": {
      "text/plain": [
       "66"
      ]
     },
     "execution_count": 30,
     "metadata": {},
     "output_type": "execute_result"
    }
   ],
   "source": [
    "len(splits)"
   ]
  },
  {
   "cell_type": "code",
   "execution_count": 31,
   "id": "1a6371c7",
   "metadata": {},
   "outputs": [
    {
     "data": {
      "text/plain": [
       "'advanced techniques, making it an accessible and comprehensive resource for both novices and \\n seasoned data engineers. The authors have taken time to list our the differences between hive and'"
      ]
     },
     "execution_count": 31,
     "metadata": {},
     "output_type": "execute_result"
    }
   ],
   "source": [
    "splits[45].page_content"
   ]
  },
  {
   "cell_type": "code",
   "execution_count": 32,
   "id": "516021ca",
   "metadata": {},
   "outputs": [
    {
     "data": {
      "text/plain": [
       "'iceberg is our paramount help for firms that are moving from hive to iceberg \\n The authors excel in providing actionable solutions to real-world challenges, covering topics such as'"
      ]
     },
     "execution_count": 32,
     "metadata": {},
     "output_type": "execute_result"
    }
   ],
   "source": [
    "splits[46].page_content"
   ]
  },
  {
   "cell_type": "markdown",
   "id": "6cd7054d",
   "metadata": {},
   "source": [
    "# Chunks"
   ]
  },
  {
   "cell_type": "code",
   "execution_count": 34,
   "id": "0b586ac2",
   "metadata": {},
   "outputs": [],
   "source": [
    "import tiktoken  # !pip install tiktoken\n",
    "tokenizer = tiktoken.get_encoding('p50k_base')"
   ]
  },
  {
   "cell_type": "code",
   "execution_count": 35,
   "id": "c20d6a58",
   "metadata": {},
   "outputs": [],
   "source": [
    "# create the length function\n",
    "def tiktoken_len(text):\n",
    "    tokens = tokenizer.encode(\n",
    "        text,\n",
    "        disallowed_special=()\n",
    "    )\n",
    "    return len(tokens)\n",
    "\n"
   ]
  },
  {
   "cell_type": "code",
   "execution_count": 36,
   "id": "6a5af2a7",
   "metadata": {},
   "outputs": [
    {
     "data": {
      "text/plain": [
       "28"
      ]
     },
     "execution_count": 36,
     "metadata": {},
     "output_type": "execute_result"
    }
   ],
   "source": [
    "tiktoken_len(\"hello I am a chunk of text and using the tiktoken_len function \"\n",
    "             \"we can find the length of this chunk of text in tokens\")"
   ]
  },
  {
   "cell_type": "code",
   "execution_count": 43,
   "id": "85f26e8e",
   "metadata": {},
   "outputs": [
    {
     "data": {
      "text/plain": [
       "347"
      ]
     },
     "execution_count": 43,
     "metadata": {},
     "output_type": "execute_result"
    }
   ],
   "source": [
    "tiktoken_len(\"Anil Koripelly:  Open Lakehouse Iceberg: 108 Recipes by Satya Kondapalli and Ravi Gurram is a thoughtfully crafted \\n and highly practical guide for data professionals looking to harness the full potential of Apache \\n Iceberg. With its recipe-style structure, the book expertly bridges foundational concepts and \\n advanced techniques, making it an accessible and comprehensive resource for both novices and \\n seasoned data engineers. The authors have taken time to list our the differences between hive and \\n iceberg is our paramount help for firms that are moving from hive to iceberg \\n The authors excel in providing actionable solutions to real-world challenges, covering topics such as \\n schema evolution, partitioning, metadata management, and integration with tools like Hive, \\n Snowflake, and AWS Glue. What sets this book apart is its focus on practical applications, offering \\n clear step-by-step instructions paired with insights into modern data architectures like Open \\n Lakehouse. \\n Written with clarity and passion, this book reflects the authors' deep expertise and commitment to \\n empowering the data community. It’s an invaluable reference for anyone aiming to build robust, \\n scalable, and future-ready data ecosystems. Whether you’re migrating from legacy systems or \\n optimizing workflows, this guide is a must-read. Thank you Satya for giving me an opportunity to be \\n one of the first to review the recipes and I thoroughly enjoyed reading and trying out many recipes. \\n Sincerely, \\n Anil \\n https://www.linkedin.com/in/anil-koripelly-684bbba/\")"
   ]
  },
  {
   "cell_type": "code",
   "execution_count": 37,
   "id": "c6fd3c6b",
   "metadata": {},
   "outputs": [
    {
     "data": {
      "text/plain": [
       "Document(metadata={'source': '/Users/satyak/iceberg/milvus/class/invoices/Invoice_2022_06.pdf', 'page': 0, 'start_index': 479}, page_content='0 $12,000.00 \\n  Total $17, 000.00')"
      ]
     },
     "execution_count": 37,
     "metadata": {},
     "output_type": "execute_result"
    }
   ],
   "source": [
    "splits[11]"
   ]
  },
  {
   "cell_type": "code",
   "execution_count": null,
   "id": "af0bc73c",
   "metadata": {},
   "outputs": [],
   "source": []
  },
  {
   "cell_type": "code",
   "execution_count": 38,
   "id": "0c71a0f2",
   "metadata": {},
   "outputs": [
    {
     "data": {
      "text/plain": [
       "'/Users/satyak/iceberg/milvus/class/invoices/Invoice_2023_08.pdf'"
      ]
     },
     "execution_count": 38,
     "metadata": {},
     "output_type": "execute_result"
    }
   ],
   "source": [
    "splits[1].metadata['source']"
   ]
  },
  {
   "cell_type": "code",
   "execution_count": 39,
   "id": "ea6913cd",
   "metadata": {},
   "outputs": [
    {
     "data": {
      "text/plain": [
       "29"
      ]
     },
     "execution_count": 39,
     "metadata": {},
     "output_type": "execute_result"
    }
   ],
   "source": [
    "tiktoken_len(splits[11].metadata['source'])"
   ]
  },
  {
   "cell_type": "code",
   "execution_count": 40,
   "id": "79218050",
   "metadata": {},
   "outputs": [
    {
     "data": {
      "text/plain": [
       "17"
      ]
     },
     "execution_count": 40,
     "metadata": {},
     "output_type": "execute_result"
    }
   ],
   "source": [
    "tiktoken_len(splits[11].page_content)"
   ]
  },
  {
   "cell_type": "code",
   "execution_count": 42,
   "id": "a188840d",
   "metadata": {},
   "outputs": [
    {
     "data": {
      "text/plain": [
       "'Date:  08/22/2023 \\nAbc, Inc      \\n1111, abc St     \\nNapervillw, IL, 60567    \\nwww.sales.com \\nE-mail: ksbob@gmail.com \\n \\nPhone (630) 340-9704 \\nTax ID Number: 99-123456 \\nInvoice#: MW_2023-08 \\n \\nBill To:  \\nxyz are LLC and its Affiliates  \\n3456 Exchange Ste 345  \\nIrvine, California 92602 \\n \\n \\nDescription Unit Rate Amount \\nRam Sam \\nConsulting work provided for the month of Aug,2023 1 $5000.00 $5000.00 \\nKrishna Bob \\nConsulting work provided for the month of Aug,2023 1 $12,000.0\\n0 $12,000.00 \\n  Total $17, 000.00'"
      ]
     },
     "execution_count": 42,
     "metadata": {},
     "output_type": "execute_result"
    }
   ],
   "source": [
    "pages[0].page_content"
   ]
  },
  {
   "cell_type": "code",
   "execution_count": 41,
   "id": "bac8945e",
   "metadata": {},
   "outputs": [
    {
     "data": {
      "text/plain": [
       "206"
      ]
     },
     "execution_count": 41,
     "metadata": {},
     "output_type": "execute_result"
    }
   ],
   "source": [
    "tiktoken_len(pages[0].page_content)"
   ]
  },
  {
   "cell_type": "code",
   "execution_count": null,
   "id": "d28d1fe0",
   "metadata": {},
   "outputs": [],
   "source": []
  }
 ],
 "metadata": {
  "kernelspec": {
   "display_name": "Python 3 (ipykernel)",
   "language": "python",
   "name": "python3"
  },
  "language_info": {
   "codemirror_mode": {
    "name": "ipython",
    "version": 3
   },
   "file_extension": ".py",
   "mimetype": "text/x-python",
   "name": "python",
   "nbconvert_exporter": "python",
   "pygments_lexer": "ipython3",
   "version": "3.9.1"
  }
 },
 "nbformat": 4,
 "nbformat_minor": 5
}
