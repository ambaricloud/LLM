{
 "cells": [
  {
   "cell_type": "markdown",
   "id": "fd290324",
   "metadata": {},
   "source": [
    "# Start Milvius"
   ]
  },
  {
   "cell_type": "code",
   "execution_count": null,
   "id": "3eed3498",
   "metadata": {},
   "outputs": [],
   "source": [
    "#curl -sfL https://raw.githubusercontent.com/milvus-io/milvus/master/scripts/standalone_embed.sh -o standalone_embed.sh\n",
    "\n",
    "#bash standalone_embed.sh start\n"
   ]
  },
  {
   "cell_type": "markdown",
   "id": "292fe820",
   "metadata": {},
   "source": [
    "# Set API KEY"
   ]
  },
  {
   "cell_type": "code",
   "execution_count": null,
   "id": "f0db5126",
   "metadata": {},
   "outputs": [],
   "source": [
    "import os\n",
    "from dotenv import load_dotenv\n",
    "\n",
    "load_dotenv()\n",
    "import openai\n",
    "openai.api_key = os.getenv(\"OPENAI_API_KEY\")"
   ]
  },
  {
   "cell_type": "code",
   "execution_count": null,
   "id": "2ce1e05c",
   "metadata": {},
   "outputs": [],
   "source": []
  },
  {
   "cell_type": "code",
   "execution_count": null,
   "id": "b108dc5b",
   "metadata": {},
   "outputs": [],
   "source": [
    "from pymilvus import connections,utility,Collection,CollectionSchema, FieldSchema,DataType\n",
    "from langchain.vectorstores import Milvus"
   ]
  },
  {
   "cell_type": "code",
   "execution_count": null,
   "id": "49af70cc",
   "metadata": {},
   "outputs": [],
   "source": [
    "from langchain.document_loaders import PyPDFLoader ,PyPDFDirectoryLoader\n",
    "from langchain.text_splitter import CharacterTextSplitter"
   ]
  },
  {
   "cell_type": "code",
   "execution_count": null,
   "id": "aba66389",
   "metadata": {},
   "outputs": [],
   "source": [
    "from langchain.document_loaders.image import UnstructuredImageLoader\n",
    "from langchain.document_loaders import UnstructuredFileLoader"
   ]
  },
  {
   "cell_type": "code",
   "execution_count": null,
   "id": "c7853b69",
   "metadata": {},
   "outputs": [],
   "source": []
  },
  {
   "cell_type": "markdown",
   "id": "1f3888c9",
   "metadata": {},
   "source": [
    "# Connect to milvus"
   ]
  },
  {
   "cell_type": "code",
   "execution_count": null,
   "id": "a5627470",
   "metadata": {},
   "outputs": [],
   "source": [
    "connections.connect(host=\"localhost\",port=\"19530\")"
   ]
  },
  {
   "cell_type": "markdown",
   "id": "77a07701",
   "metadata": {},
   "source": [
    "# Load Files"
   ]
  },
  {
   "cell_type": "code",
   "execution_count": null,
   "id": "1bfc1a4d",
   "metadata": {},
   "outputs": [],
   "source": [
    "pdf_folder_path=\"/Users/satyak/iceberg/milvus/class/invoices/\""
   ]
  },
  {
   "cell_type": "code",
   "execution_count": null,
   "id": "86fd0527",
   "metadata": {},
   "outputs": [],
   "source": [
    "loader = PyPDFDirectoryLoader(pdf_folder_path)\n",
    "pages = loader.load_and_split()"
   ]
  },
  {
   "cell_type": "code",
   "execution_count": null,
   "id": "ad40642b",
   "metadata": {},
   "outputs": [],
   "source": [
    "pages[0]"
   ]
  },
  {
   "cell_type": "markdown",
   "id": "a594ca88",
   "metadata": {},
   "source": [
    "# Split documents"
   ]
  },
  {
   "cell_type": "code",
   "execution_count": null,
   "id": "7ec5f60d",
   "metadata": {},
   "outputs": [],
   "source": [
    "text_splitter = CharacterTextSplitter(chunk_size=1000, chunk_overlap=0) \n",
    "docs = text_splitter.split_documents(pages)"
   ]
  },
  {
   "cell_type": "code",
   "execution_count": null,
   "id": "f142fe9c",
   "metadata": {},
   "outputs": [],
   "source": [
    "docs[0]"
   ]
  },
  {
   "cell_type": "markdown",
   "id": "8c731022",
   "metadata": {},
   "source": [
    "# Embedding"
   ]
  },
  {
   "cell_type": "code",
   "execution_count": null,
   "id": "54952ca4",
   "metadata": {},
   "outputs": [],
   "source": [
    "from langchain.embeddings import OpenAIEmbeddings\n",
    "embeddings = OpenAIEmbeddings()"
   ]
  },
  {
   "cell_type": "markdown",
   "id": "07e3235e",
   "metadata": {},
   "source": [
    "# Collection (Index)"
   ]
  },
  {
   "cell_type": "code",
   "execution_count": null,
   "id": "47923186",
   "metadata": {},
   "outputs": [],
   "source": [
    "COLLECTION_NAME = \"invoices\""
   ]
  },
  {
   "cell_type": "code",
   "execution_count": null,
   "id": "73a57e8e",
   "metadata": {},
   "outputs": [],
   "source": [
    "if utility.has_collection(COLLECTION_NAME):\n",
    "    utility.drop_collection(COLLECTION_NAME)"
   ]
  },
  {
   "cell_type": "code",
   "execution_count": null,
   "id": "73709af2",
   "metadata": {},
   "outputs": [],
   "source": [
    "print(utility.list_collections())"
   ]
  },
  {
   "cell_type": "code",
   "execution_count": null,
   "id": "91416606",
   "metadata": {},
   "outputs": [],
   "source": [
    "index_params = {\n",
    "    \"index_type\": \"IVF_FLAT\",\n",
    "    \"metric_type\": \"L2\",\n",
    "    \"params\": {\"nlist\": 16384},\n",
    "}"
   ]
  },
  {
   "cell_type": "code",
   "execution_count": null,
   "id": "952932da",
   "metadata": {},
   "outputs": [],
   "source": [
    "search_params={\"metric\":\"L2\",\"offset\":0}"
   ]
  },
  {
   "cell_type": "markdown",
   "id": "caa35191",
   "metadata": {},
   "source": [
    "# Load documetns"
   ]
  },
  {
   "cell_type": "code",
   "execution_count": null,
   "id": "8da57576",
   "metadata": {},
   "outputs": [],
   "source": [
    "vector_db = Milvus.from_documents(\n",
    "    pages,\n",
    "    embeddings,\n",
    "    connection_args={\"host\": \"127.0.0.1\", \"port\": \"19530\"},\n",
    "    collection_name = COLLECTION_NAME, ## custom collection name \n",
    "    search_params = {\"metric\":\"L2\",\"offset\":0}, ## search params\n",
    "    index_params =index_params,\n",
    ")"
   ]
  },
  {
   "cell_type": "markdown",
   "id": "9f443d21",
   "metadata": {},
   "source": [
    "# Query documents"
   ]
  },
  {
   "cell_type": "code",
   "execution_count": null,
   "id": "4ffa2c6d",
   "metadata": {},
   "outputs": [],
   "source": [
    "query = \"08/22/2025 Invoices\"\n",
    "docs = vector_db.similarity_search(query)"
   ]
  },
  {
   "cell_type": "code",
   "execution_count": null,
   "id": "f8d2f372",
   "metadata": {},
   "outputs": [],
   "source": [
    "len(docs)"
   ]
  },
  {
   "cell_type": "markdown",
   "id": "7ebf5049",
   "metadata": {},
   "source": [
    "# Document metdata info"
   ]
  },
  {
   "cell_type": "code",
   "execution_count": null,
   "id": "1f3e3729",
   "metadata": {},
   "outputs": [],
   "source": [
    "for doc in docs:\n",
    "    print(doc.page_content)"
   ]
  },
  {
   "cell_type": "code",
   "execution_count": null,
   "id": "436d055b",
   "metadata": {},
   "outputs": [],
   "source": []
  },
  {
   "cell_type": "markdown",
   "id": "e359f8e3",
   "metadata": {},
   "source": [
    "## Milvus collection schema and collection info"
   ]
  },
  {
   "cell_type": "code",
   "execution_count": null,
   "id": "53f16b62",
   "metadata": {},
   "outputs": [],
   "source": [
    "print(f\"Default collection name - {vector_db.collection_name}\")\n",
    "print(f\"Default search params - {vector_db.search_params}\")\n",
    "print(f\"Default index params - {vector_db.index_params}\") #HNSW"
   ]
  },
  {
   "cell_type": "code",
   "execution_count": null,
   "id": "30da2de6",
   "metadata": {},
   "outputs": [],
   "source": [
    "vector_db.collection_name"
   ]
  },
  {
   "cell_type": "code",
   "execution_count": null,
   "id": "6e899057",
   "metadata": {},
   "outputs": [],
   "source": [
    "print(utility.list_collections())"
   ]
  },
  {
   "cell_type": "code",
   "execution_count": null,
   "id": "c1641323",
   "metadata": {},
   "outputs": [],
   "source": [
    "collection = Collection(COLLECTION_NAME)  "
   ]
  },
  {
   "cell_type": "code",
   "execution_count": null,
   "id": "d6db4958",
   "metadata": {},
   "outputs": [],
   "source": [
    "collection.schema.fields"
   ]
  },
  {
   "cell_type": "markdown",
   "id": "ca45a36a",
   "metadata": {},
   "source": [
    "# Query a collection"
   ]
  },
  {
   "cell_type": "code",
   "execution_count": null,
   "id": "acecabdf",
   "metadata": {},
   "outputs": [],
   "source": [
    "res = collection.query(\n",
    "  expr = \"pk >= 0\", \n",
    "  output_fields = [\"pk\", \"page\",\"source\"]\n",
    ")\n",
    "for x in res:\n",
    "    print(x[\"pk\"], x[\"source\"],x[\"page\"])"
   ]
  },
  {
   "cell_type": "code",
   "execution_count": null,
   "id": "1c247a51",
   "metadata": {},
   "outputs": [],
   "source": [
    "query = \"Sep, 2022\"\n",
    "docs = vector_db.similarity_search(search_terms)"
   ]
  },
  {
   "cell_type": "code",
   "execution_count": null,
   "id": "c3ee5ab0",
   "metadata": {},
   "outputs": [],
   "source": [
    "# "
   ]
  },
  {
   "cell_type": "code",
   "execution_count": null,
   "id": "1962d45f",
   "metadata": {},
   "outputs": [],
   "source": [
    "res = collection.query(\n",
    "    expr = \"pk >= 0\", \n",
    "    output_fields = [\"pk\", \"vector\",\"source\",\"page\",\"text\"]\n",
    ")\n",
    "for x in res:\n",
    "    print(x[\"pk\"], x[\"vector\"])"
   ]
  },
  {
   "cell_type": "markdown",
   "id": "7d9e94a0",
   "metadata": {},
   "source": [
    "# delete a file "
   ]
  },
  {
   "cell_type": "code",
   "execution_count": null,
   "id": "74a2b7c0",
   "metadata": {},
   "outputs": [],
   "source": [
    "res = collection.query(\n",
    "    expr = \"pk >= 0\", \n",
    "    output_fields = [\"pk\", \"vector\",\"source\",\"page\",\"text\"]\n",
    ")\n",
    "for x in res:\n",
    "    print(x[\"pk\"], x[\"source\"])"
   ]
  },
  {
   "cell_type": "code",
   "execution_count": null,
   "id": "8203eb92",
   "metadata": {},
   "outputs": [],
   "source": [
    "def delete_file(file):\n",
    "    res = collection.query(\n",
    "        expr = \"source =='\"+ file+\"'\",\n",
    "        output_fields = [\"pk\", \"vector\",\"source\"]\n",
    "    )\n",
    "\n",
    "    for x in res:\n",
    "        expr = \"pk in [\"+str(x[\"pk\"])+\"]\"\n",
    "        print(expr)\n",
    "        print(\"Deleting:\", x[\"pk\"], x[\"source\"])\n",
    "        collection.delete(expr)\n"
   ]
  },
  {
   "cell_type": "code",
   "execution_count": null,
   "id": "8f50b3ae",
   "metadata": {},
   "outputs": [],
   "source": [
    "file='/Users/satyak/iceberg/milvus/class/invoices/Invoice_2023_08.pdf'"
   ]
  },
  {
   "cell_type": "code",
   "execution_count": null,
   "id": "530fcbee",
   "metadata": {},
   "outputs": [],
   "source": [
    "delete_file(file)"
   ]
  },
  {
   "cell_type": "markdown",
   "id": "07288955",
   "metadata": {},
   "source": [
    "# Check file exits"
   ]
  },
  {
   "cell_type": "code",
   "execution_count": null,
   "id": "6076aa94",
   "metadata": {},
   "outputs": [],
   "source": [
    "def check_file_data(file):\n",
    "    res = collection.query(\n",
    "        expr = \"source =='\"+ file+\"'\",\n",
    "        output_fields = [\"pk\", \"vector\",\"source\"],\n",
    "    )\n",
    "    if len(res)>0:\n",
    "        for x in res:\n",
    "            expr = \"pk in [\"+str(x[\"pk\"])+\"]\"\n",
    "            print(\"File exists:\", x[\"pk\"], x[\"source\"])\n",
    "        return True\n",
    "    else:\n",
    "        print(\"File Not exists:\",file)\n",
    "        return False\n",
    "\n"
   ]
  },
  {
   "cell_type": "code",
   "execution_count": null,
   "id": "52079100",
   "metadata": {},
   "outputs": [],
   "source": [
    "check_file_data(file)"
   ]
  },
  {
   "cell_type": "code",
   "execution_count": null,
   "id": "662a5b34",
   "metadata": {},
   "outputs": [],
   "source": [
    "file='/Users/satyak/iceberg/milvus/class/invoices/Invoice_2022_041.pdf'"
   ]
  },
  {
   "cell_type": "code",
   "execution_count": null,
   "id": "2c0de3d2",
   "metadata": {},
   "outputs": [],
   "source": [
    "check_file_data(file)"
   ]
  },
  {
   "cell_type": "markdown",
   "id": "01aa5d24",
   "metadata": {},
   "source": [
    "# Insert a file"
   ]
  },
  {
   "cell_type": "code",
   "execution_count": null,
   "id": "06831ba9",
   "metadata": {},
   "outputs": [],
   "source": [
    "def insert_data(file):\n",
    "    print(\"Inserting\")\n",
    "    loader=PyPDFLoader(file)\n",
    "    all_doc=loader.load()\n",
    "    all_splits = text_splitter.split_documents(all_doc)\n",
    "    vector_db = Milvus.from_documents(\n",
    "        documents=all_splits,\n",
    "        embedding=embeddings,\n",
    "       connection_args={\"host\": \"127.0.0.1\", \"port\": \"19530\"},\n",
    "       collection_name = COLLECTION_NAME, ## custom collection name \n",
    "       search_params = {\"metric\":\"L2\",\"offset\":0}, ## search params\n",
    "       index_params=index_params,   \n",
    "    )\n"
   ]
  },
  {
   "cell_type": "code",
   "execution_count": null,
   "id": "d78d383c",
   "metadata": {},
   "outputs": [],
   "source": [
    "file='/Users/satyak/iceberg/milvus/class/invoices/Invoice_2023_08.pdf'"
   ]
  },
  {
   "cell_type": "code",
   "execution_count": null,
   "id": "92bb2e3e",
   "metadata": {},
   "outputs": [],
   "source": [
    "insert_data(file)\n"
   ]
  },
  {
   "cell_type": "code",
   "execution_count": null,
   "id": "bb846eee",
   "metadata": {},
   "outputs": [],
   "source": [
    "check_file_data(file)"
   ]
  },
  {
   "cell_type": "markdown",
   "id": "204cc662",
   "metadata": {},
   "source": [
    "# Upsert a files (delete and insert)"
   ]
  },
  {
   "cell_type": "code",
   "execution_count": null,
   "id": "1cf02947",
   "metadata": {},
   "outputs": [],
   "source": [
    "def upsert_file_data(file):\n",
    "    if check_file_data(file):\n",
    "        delete_file(file)\n",
    "    insert_data(file)"
   ]
  },
  {
   "cell_type": "code",
   "execution_count": null,
   "id": "4adaf01b",
   "metadata": {},
   "outputs": [],
   "source": [
    "upsert_file_data(file)"
   ]
  },
  {
   "cell_type": "code",
   "execution_count": null,
   "id": "4fe8e20d",
   "metadata": {},
   "outputs": [],
   "source": []
  }
 ],
 "metadata": {
  "kernelspec": {
   "display_name": "Python 3 (ipykernel)",
   "language": "python",
   "name": "python3"
  },
  "language_info": {
   "codemirror_mode": {
    "name": "ipython",
    "version": 3
   },
   "file_extension": ".py",
   "mimetype": "text/x-python",
   "name": "python",
   "nbconvert_exporter": "python",
   "pygments_lexer": "ipython3",
   "version": "3.9.1"
  }
 },
 "nbformat": 4,
 "nbformat_minor": 5
}
