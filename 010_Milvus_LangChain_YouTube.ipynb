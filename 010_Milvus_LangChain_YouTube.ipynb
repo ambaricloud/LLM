{
 "cells": [
  {
   "cell_type": "code",
   "execution_count": null,
   "id": "3739e612",
   "metadata": {},
   "outputs": [],
   "source": [
    "import os\n",
    "from dotenv import load_dotenv\n",
    "\n",
    "load_dotenv()\n",
    "import openai\n",
    "openai.api_key = os.getenv(\"OPENAI_API_KEY\")"
   ]
  },
  {
   "cell_type": "code",
   "execution_count": null,
   "id": "b108dc5b",
   "metadata": {},
   "outputs": [],
   "source": [
    "\n",
    "from pymilvus import connections,utility,Collection,CollectionSchema, FieldSchema,DataType\n",
    "from langchain.vectorstores import Milvus\n",
    "from langchain.embeddings import HuggingFaceEmbeddings, SentenceTransformerEmbeddings"
   ]
  },
  {
   "cell_type": "code",
   "execution_count": null,
   "id": "a5627470",
   "metadata": {},
   "outputs": [],
   "source": [
    "connections.connect(host=\"localhost\",port=\"19530\")\n"
   ]
  },
  {
   "cell_type": "code",
   "execution_count": null,
   "id": "d8a0e051",
   "metadata": {},
   "outputs": [],
   "source": [
    "from langchain.document_loaders import WebBaseLoader\n",
    "from langchain.text_splitter import CharacterTextSplitter\n"
   ]
  },
  {
   "cell_type": "code",
   "execution_count": null,
   "id": "8388875b",
   "metadata": {},
   "outputs": [],
   "source": [
    "# Use the WebBaseLoader to load specified web pages into documents\n",
    "loader = WebBaseLoader([\n",
    "    \"https://milvus.io/docs/overview.md\",\n",
    "])\n",
    "\n",
    "#docs = loader.load()\n",
    "\n",
    "pages = loader.load_and_split()"
   ]
  },
  {
   "cell_type": "code",
   "execution_count": null,
   "id": "a64a5578",
   "metadata": {},
   "outputs": [],
   "source": [
    "len(pages)"
   ]
  },
  {
   "cell_type": "code",
   "execution_count": null,
   "id": "e7a4ca31",
   "metadata": {},
   "outputs": [],
   "source": [
    "# Split the documents into smaller chunks\n",
    "#text_splitter = CharacterTextSplitter(chunk_size=1024, chunk_overlap=0)\n",
    "#docs = text_splitter.split_documents(docs)"
   ]
  },
  {
   "cell_type": "code",
   "execution_count": null,
   "id": "6250da9a",
   "metadata": {},
   "outputs": [],
   "source": [
    "pages[0]"
   ]
  },
  {
   "cell_type": "code",
   "execution_count": null,
   "id": "2fdac4a9",
   "metadata": {},
   "outputs": [],
   "source": [
    "from langchain.vectorstores import Milvus\n",
    "from langchain.schema import Document\n",
    "\n"
   ]
  },
  {
   "cell_type": "code",
   "execution_count": null,
   "id": "3473d57d",
   "metadata": {},
   "outputs": [],
   "source": [
    "from langchain.embeddings import OpenAIEmbeddings\n",
    "embeddings = OpenAIEmbeddings()"
   ]
  },
  {
   "cell_type": "code",
   "execution_count": null,
   "id": "ec5bb2f5",
   "metadata": {},
   "outputs": [],
   "source": [
    "from langchain.text_splitter import RecursiveCharacterTextSplitter\n",
    "text_splitter = RecursiveCharacterTextSplitter(chunk_size=100, chunk_overlap=0) \n",
    "docs = text_splitter.split_documents(pages)"
   ]
  },
  {
   "cell_type": "code",
   "execution_count": null,
   "id": "4dd399ea",
   "metadata": {},
   "outputs": [],
   "source": [
    "\n",
    "new_doc1 = []\n",
    "i=0\n",
    "for doc in docs:\n",
    "    met = doc.metadata\n",
    "    met['page'] = i\n",
    "    i==i+1\n",
    "    new_doc1.append(Document(\n",
    "        page_content=doc.page_content,\n",
    "        metadata=met\n",
    "        )\n",
    "    )"
   ]
  },
  {
   "cell_type": "code",
   "execution_count": null,
   "id": "ca5dac0c",
   "metadata": {},
   "outputs": [],
   "source": [
    "len(new_doc1)"
   ]
  },
  {
   "cell_type": "code",
   "execution_count": null,
   "id": "0ce1a50b",
   "metadata": {},
   "outputs": [],
   "source": [
    "COLLECTION_NAME = \"milvius\" ## custom collection name  COLLECTION_NAME, ## custom collection name "
   ]
  },
  {
   "cell_type": "code",
   "execution_count": null,
   "id": "69c1d89b",
   "metadata": {},
   "outputs": [],
   "source": [
    "vector_db = Milvus.from_documents(\n",
    "    docs,\n",
    "    embeddings,\n",
    "    collection_name = COLLECTION_NAME, ## custom collection name \n",
    "    connection_args={\"host\": \"127.0.0.1\", \"port\": \"19530\"},\n",
    ")"
   ]
  },
  {
   "cell_type": "code",
   "execution_count": null,
   "id": "754b010a",
   "metadata": {},
   "outputs": [],
   "source": [
    "query = \"What is milvus?\"\n",
    "docs = vector_db.similarity_search(query)\n",
    "\n",
    "print(docs)"
   ]
  },
  {
   "cell_type": "code",
   "execution_count": null,
   "id": "6e899057",
   "metadata": {},
   "outputs": [],
   "source": [
    "print(utility.list_collections())"
   ]
  },
  {
   "cell_type": "code",
   "execution_count": null,
   "id": "3c9352a8",
   "metadata": {},
   "outputs": [],
   "source": [
    "vectordb = Milvus(\n",
    "    embeddings,\n",
    "    collection_name = COLLECTION_NAME, ## custom collection name \n",
    "    connection_args={\"host\": \"127.0.0.1\", \"port\": \"19530\"},\n",
    ")"
   ]
  },
  {
   "cell_type": "code",
   "execution_count": null,
   "id": "caa60dbe",
   "metadata": {},
   "outputs": [],
   "source": [
    "query = \"What is milvus?\"\n",
    "docs = vectordb.similarity_search(query)\n",
    "\n",
    "print(docs)"
   ]
  },
  {
   "cell_type": "code",
   "execution_count": null,
   "id": "e658d8d7",
   "metadata": {},
   "outputs": [],
   "source": []
  }
 ],
 "metadata": {
  "kernelspec": {
   "display_name": "Python 3 (ipykernel)",
   "language": "python",
   "name": "python3"
  },
  "language_info": {
   "codemirror_mode": {
    "name": "ipython",
    "version": 3
   },
   "file_extension": ".py",
   "mimetype": "text/x-python",
   "name": "python",
   "nbconvert_exporter": "python",
   "pygments_lexer": "ipython3",
   "version": "3.9.1"
  }
 },
 "nbformat": 4,
 "nbformat_minor": 5
}
