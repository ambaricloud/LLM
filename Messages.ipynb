{
 "cells": [
  {
   "cell_type": "code",
   "execution_count": 106,
   "id": "19d1f4da",
   "metadata": {},
   "outputs": [],
   "source": [
    "import langchain\n",
    "import os\n",
    "from langchain_openai import ChatOpenAI\n",
    "from langchain_openai import OpenAIEmbeddings\n",
    "from langchain_core.messages import HumanMessage, SystemMessage\n",
    "from typing import List"
   ]
  },
  {
   "cell_type": "code",
   "execution_count": 107,
   "id": "9cc48863",
   "metadata": {},
   "outputs": [],
   "source": [
    "from dotenv import load_dotenv\n",
    "load_dotenv()\n",
    "import openai\n",
    "openai.api_key = os.getenv(\"OPENAI_API_KEY\")"
   ]
  },
  {
   "cell_type": "code",
   "execution_count": 108,
   "id": "0ac7805f",
   "metadata": {},
   "outputs": [],
   "source": [
    "# Initialize the conversation with the AI's first message\n",
    "messages = [AIMessage(content=f\"So you said you were researching ocean mammals?\", name=\"Model\")]\n"
   ]
  },
  {
   "cell_type": "code",
   "execution_count": 109,
   "id": "6dd04ae3",
   "metadata": {},
   "outputs": [],
   "source": [
    "# Append messages from the human and the AI\n"
   ]
  },
  {
   "cell_type": "code",
   "execution_count": 110,
   "id": "13ad0fdf",
   "metadata": {},
   "outputs": [],
   "source": [
    "messages.append(HumanMessage(content=f\"Yes, that's right.\", name=\"Lance\"))\n"
   ]
  },
  {
   "cell_type": "code",
   "execution_count": 111,
   "id": "e978b523",
   "metadata": {},
   "outputs": [],
   "source": [
    "messages.append(AIMessage(content=f\"Great, what would you like to learn about?\", name=\"Model\"))\n"
   ]
  },
  {
   "cell_type": "code",
   "execution_count": 112,
   "id": "b912e6f6",
   "metadata": {},
   "outputs": [],
   "source": [
    "messages.append(AIMessage(content=f\"Great, what would you like to learn about?\", name=\"Model\"))\n"
   ]
  },
  {
   "cell_type": "code",
   "execution_count": 113,
   "id": "2726298f",
   "metadata": {},
   "outputs": [],
   "source": [
    "messages.append(AIMessage(content=f\"Great, what would you like to learn about?\", name=\"Model\"))\n"
   ]
  },
  {
   "cell_type": "code",
   "execution_count": 114,
   "id": "a202b83a",
   "metadata": {},
   "outputs": [
    {
     "name": "stdout",
     "output_type": "stream",
     "text": [
      "==================================\u001b[1m Ai Message \u001b[0m==================================\n",
      "Name: Model\n",
      "\n",
      "So you said you were researching ocean mammals?\n",
      "================================\u001b[1m Human Message \u001b[0m=================================\n",
      "Name: Lance\n",
      "\n",
      "Yes, that's right.\n",
      "==================================\u001b[1m Ai Message \u001b[0m==================================\n",
      "Name: Model\n",
      "\n",
      "Great, what would you like to learn about?\n",
      "==================================\u001b[1m Ai Message \u001b[0m==================================\n",
      "Name: Model\n",
      "\n",
      "Great, what would you like to learn about?\n",
      "==================================\u001b[1m Ai Message \u001b[0m==================================\n",
      "Name: Model\n",
      "\n",
      "Great, what would you like to learn about?\n"
     ]
    }
   ],
   "source": [
    "\n",
    "\n",
    "# Iterate over the messages and print them in a pretty format\n",
    "for m in messages:\n",
    "    m.pretty_print()\n",
    "\n"
   ]
  },
  {
   "cell_type": "code",
   "execution_count": null,
   "id": "8d0a70e0",
   "metadata": {},
   "outputs": [],
   "source": []
  }
 ],
 "metadata": {
  "kernelspec": {
   "display_name": "Python 3 (ipykernel)",
   "language": "python",
   "name": "python3"
  },
  "language_info": {
   "codemirror_mode": {
    "name": "ipython",
    "version": 3
   },
   "file_extension": ".py",
   "mimetype": "text/x-python",
   "name": "python",
   "nbconvert_exporter": "python",
   "pygments_lexer": "ipython3",
   "version": "3.9.1"
  }
 },
 "nbformat": 4,
 "nbformat_minor": 5
}
