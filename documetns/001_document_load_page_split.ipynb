{
 "cells": [
  {
   "cell_type": "code",
   "execution_count": null,
   "id": "b68ed775",
   "metadata": {},
   "outputs": [],
   "source": [
    "# Document Loader"
   ]
  },
  {
   "cell_type": "code",
   "execution_count": 1,
   "id": "3ab33e2f",
   "metadata": {},
   "outputs": [
    {
     "name": "stderr",
     "output_type": "stream",
     "text": [
      "USER_AGENT environment variable not set, consider setting it to identify your requests.\n"
     ]
    }
   ],
   "source": [
    "import langchain\n",
    "import os\n",
    "from langchain.document_loaders import WebBaseLoader\n",
    "from langchain.text_splitter import RecursiveCharacterTextSplitter\n",
    "from langchain.document_loaders import JSONLoader,PyPDFDirectoryLoader\n",
    "from langchain.document_loaders import PyPDFLoader"
   ]
  },
  {
   "cell_type": "code",
   "execution_count": 2,
   "id": "2cbd8af4",
   "metadata": {},
   "outputs": [],
   "source": [
    "# PDF Directory Loader"
   ]
  },
  {
   "cell_type": "code",
   "execution_count": 3,
   "id": "c3faa5a6",
   "metadata": {},
   "outputs": [],
   "source": [
    "loader = PyPDFDirectoryLoader(\"/Users/satyak/iceberg/milvus/class/invoices/\")\n"
   ]
  },
  {
   "cell_type": "code",
   "execution_count": 4,
   "id": "85ef726e",
   "metadata": {},
   "outputs": [
    {
     "data": {
      "text/plain": [
       "<langchain_community.document_loaders.pdf.PyPDFDirectoryLoader at 0x109f5ab20>"
      ]
     },
     "execution_count": 4,
     "metadata": {},
     "output_type": "execute_result"
    }
   ],
   "source": [
    "loader"
   ]
  },
  {
   "cell_type": "code",
   "execution_count": 5,
   "id": "4ed4d6d3",
   "metadata": {},
   "outputs": [],
   "source": [
    "pages = loader.load_and_split()"
   ]
  },
  {
   "cell_type": "code",
   "execution_count": 6,
   "id": "874ea0cb",
   "metadata": {},
   "outputs": [
    {
     "data": {
      "text/plain": [
       "13"
      ]
     },
     "execution_count": 6,
     "metadata": {},
     "output_type": "execute_result"
    }
   ],
   "source": [
    "len(pages)"
   ]
  },
  {
   "cell_type": "code",
   "execution_count": 7,
   "id": "1432cd1d",
   "metadata": {},
   "outputs": [
    {
     "data": {
      "text/plain": [
       "Document(metadata={'source': '/Users/satyak/iceberg/milvus/class/invoices/Invoice_2023_08.pdf', 'page': 0}, page_content='Date:  08/22/2023 \\nAbc, Inc      \\n1111, abc St     \\nNapervillw, IL, 60567    \\nwww.sales.com \\nE-mail: ksbob@gmail.com \\n \\nPhone (630) 340-9704 \\nTax ID Number: 99-123456 \\nInvoice#: MW_2023-08 \\n \\nBill To:  \\nxyz are LLC and its Affiliates  \\n3456 Exchange Ste 345  \\nIrvine, California 92602 \\n \\n \\nDescription Unit Rate Amount \\nRam Sam \\nConsulting work provided for the month of Aug,2023 1 $5000.00 $5000.00 \\nKrishna Bob \\nConsulting work provided for the month of Aug,2023 1 $12,000.0\\n0 $12,000.00 \\n  Total $17, 000.00')"
      ]
     },
     "execution_count": 7,
     "metadata": {},
     "output_type": "execute_result"
    }
   ],
   "source": [
    "pages[0]"
   ]
  },
  {
   "cell_type": "code",
   "execution_count": 8,
   "id": "833d7f88",
   "metadata": {},
   "outputs": [
    {
     "data": {
      "text/plain": [
       "'Date:  08/22/2023 \\nAbc, Inc      \\n1111, abc St     \\nNapervillw, IL, 60567    \\nwww.sales.com \\nE-mail: ksbob@gmail.com \\n \\nPhone (630) 340-9704 \\nTax ID Number: 99-123456 \\nInvoice#: MW_2023-08 \\n \\nBill To:  \\nxyz are LLC and its Affiliates  \\n3456 Exchange Ste 345  \\nIrvine, California 92602 \\n \\n \\nDescription Unit Rate Amount \\nRam Sam \\nConsulting work provided for the month of Aug,2023 1 $5000.00 $5000.00 \\nKrishna Bob \\nConsulting work provided for the month of Aug,2023 1 $12,000.0\\n0 $12,000.00 \\n  Total $17, 000.00'"
      ]
     },
     "execution_count": 8,
     "metadata": {},
     "output_type": "execute_result"
    }
   ],
   "source": [
    "pages[0].page_content"
   ]
  },
  {
   "cell_type": "code",
   "execution_count": 9,
   "id": "a79cdf15",
   "metadata": {},
   "outputs": [
    {
     "data": {
      "text/plain": [
       "{'source': '/Users/satyak/iceberg/milvus/class/invoices/Invoice_2023_08.pdf',\n",
       " 'page': 0}"
      ]
     },
     "execution_count": 9,
     "metadata": {},
     "output_type": "execute_result"
    }
   ],
   "source": [
    "pages[0].metadata"
   ]
  },
  {
   "cell_type": "code",
   "execution_count": 10,
   "id": "37e78244",
   "metadata": {},
   "outputs": [],
   "source": [
    "loader = PyPDFLoader(\"/Users/satyak/Downloads/ambaricloud_openlakehouse_108_recipes_reviews.pdf\")\n"
   ]
  },
  {
   "cell_type": "code",
   "execution_count": 11,
   "id": "075234a5",
   "metadata": {},
   "outputs": [],
   "source": [
    "pages = loader.load_and_split()"
   ]
  },
  {
   "cell_type": "code",
   "execution_count": 12,
   "id": "4c15636a",
   "metadata": {},
   "outputs": [
    {
     "data": {
      "text/plain": [
       "4"
      ]
     },
     "execution_count": 12,
     "metadata": {},
     "output_type": "execute_result"
    }
   ],
   "source": [
    "len(pages)"
   ]
  },
  {
   "cell_type": "code",
   "execution_count": 16,
   "id": "e4302c56",
   "metadata": {},
   "outputs": [
    {
     "data": {
      "text/plain": [
       "Document(metadata={'source': '/Users/satyak/Downloads/ambaricloud_openlakehouse_108_recipes_reviews.pdf', 'page': 3}, page_content=\"Anil Koripelly:  Open Lakehouse Iceberg: 108 Recipes by Satya Kondapalli and Ravi Gurram is a thoughtfully crafted \\n and highly practical guide for data professionals looking to harness the full potential of Apache \\n Iceberg. With its recipe-style structure, the book expertly bridges foundational concepts and \\n advanced techniques, making it an accessible and comprehensive resource for both novices and \\n seasoned data engineers. The authors have taken time to list our the differences between hive and \\n iceberg is our paramount help for firms that are moving from hive to iceberg \\n The authors excel in providing actionable solutions to real-world challenges, covering topics such as \\n schema evolution, partitioning, metadata management, and integration with tools like Hive, \\n Snowflake, and AWS Glue. What sets this book apart is its focus on practical applications, offering \\n clear step-by-step instructions paired with insights into modern data architectures like Open \\n Lakehouse. \\n Written with clarity and passion, this book reflects the authors' deep expertise and commitment to \\n empowering the data community. It’s an invaluable reference for anyone aiming to build robust, \\n scalable, and future-ready data ecosystems. Whether you’re migrating from legacy systems or \\n optimizing workflows, this guide is a must-read. Thank you Satya for giving me an opportunity to be \\n one of the first to review the recipes and I thoroughly enjoyed reading and trying out many recipes. \\n Sincerely, \\n Anil \\n https://www.linkedin.com/in/anil-koripelly-684bbba/\")"
      ]
     },
     "execution_count": 16,
     "metadata": {},
     "output_type": "execute_result"
    }
   ],
   "source": [
    "pages[2]"
   ]
  },
  {
   "cell_type": "code",
   "execution_count": null,
   "id": "92a5961f",
   "metadata": {},
   "outputs": [],
   "source": []
  }
 ],
 "metadata": {
  "kernelspec": {
   "display_name": "Python 3 (ipykernel)",
   "language": "python",
   "name": "python3"
  },
  "language_info": {
   "codemirror_mode": {
    "name": "ipython",
    "version": 3
   },
   "file_extension": ".py",
   "mimetype": "text/x-python",
   "name": "python",
   "nbconvert_exporter": "python",
   "pygments_lexer": "ipython3",
   "version": "3.9.1"
  }
 },
 "nbformat": 4,
 "nbformat_minor": 5
}
