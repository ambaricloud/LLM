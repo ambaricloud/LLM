{
 "cells": [
  {
   "cell_type": "code",
   "execution_count": 1,
   "id": "19d1f4da",
   "metadata": {},
   "outputs": [],
   "source": [
    "import langchain\n",
    "import os\n",
    "from langchain.schema import HumanMessage, SystemMessage, AIMessage\n",
    "from langchain_openai import ChatOpenAI\n",
    "from langchain_openai import OpenAIEmbeddings"
   ]
  },
  {
   "cell_type": "code",
   "execution_count": 2,
   "id": "90b46c29",
   "metadata": {},
   "outputs": [],
   "source": [
    "from dotenv import load_dotenv\n",
    "load_dotenv()\n",
    "import openai\n",
    "openai.api_key = os.getenv(\"OPENAI_API_KEY\")"
   ]
  },
  {
   "cell_type": "code",
   "execution_count": 10,
   "id": "f2732306",
   "metadata": {},
   "outputs": [
    {
     "data": {
      "text/plain": [
       "'\\n\\nI am an AI and do not have feelings, so I am always doing well. Thank you for asking. How may I assist you?'"
      ]
     },
     "execution_count": 10,
     "metadata": {},
     "output_type": "execute_result"
    }
   ],
   "source": [
    "#from langchain.llms import OpenAI\n",
    "from langchain_openai import OpenAI\n",
    "llm = OpenAI()\n",
    "llm.invoke(\"Hello how are you?\")"
   ]
  },
  {
   "cell_type": "code",
   "execution_count": 11,
   "id": "a0814e00",
   "metadata": {},
   "outputs": [
    {
     "data": {
      "text/plain": [
       "'\\n\\nI am an AI, so I do not have emotions like humans do. But thank you for asking. How can I assist you today?'"
      ]
     },
     "execution_count": 11,
     "metadata": {},
     "output_type": "execute_result"
    }
   ],
   "source": [
    "llm = OpenAI(model_name=\"gpt-3.5-turbo-instruct\", temperature=0.7)\n",
    "llm.invoke(\"Hello how are you?\")"
   ]
  },
  {
   "cell_type": "code",
   "execution_count": 14,
   "id": "f2bdb40a",
   "metadata": {},
   "outputs": [
    {
     "data": {
      "text/plain": [
       "OpenAI(client=<openai.resources.completions.Completions object at 0x10777abe0>, async_client=<openai.resources.completions.AsyncCompletions object at 0x1077abd60>, model_kwargs={}, openai_api_key=SecretStr('**********'))"
      ]
     },
     "execution_count": 14,
     "metadata": {},
     "output_type": "execute_result"
    }
   ],
   "source": [
    "llm"
   ]
  },
  {
   "cell_type": "code",
   "execution_count": 12,
   "id": "842bd4f9",
   "metadata": {},
   "outputs": [
    {
     "data": {
      "text/plain": [
       "\"\\n\\nI'm a language model AI, I don't have emotions or feelings. But thank you for asking. How can I assist you today?\""
      ]
     },
     "execution_count": 12,
     "metadata": {},
     "output_type": "execute_result"
    }
   ],
   "source": [
    "llm(\"Hello how are you?\")"
   ]
  },
  {
   "cell_type": "code",
   "execution_count": 6,
   "id": "e0e98de6",
   "metadata": {},
   "outputs": [],
   "source": [
    "# Generate the checklist again (optional, identical prompt)\n",
    "result = llm(\"Planning a Hiking Trip to Colorado. Please generate a bulleted checklist of 3 top items to prepare for this trip\")\n",
    "\n"
   ]
  },
  {
   "cell_type": "code",
   "execution_count": 7,
   "id": "54fc9e5c",
   "metadata": {},
   "outputs": [
    {
     "data": {
      "text/plain": [
       "'\\n\\n1. Proper Hiking Gear and Equipment\\n- Hiking boots/shoes\\n- Weather-appropriate clothing (layers, rain jacket, etc.)\\n- Backpack with water bladder or water bottles\\n- Hiking poles (optional)\\n- Navigation tools (map, compass, GPS)\\n- First aid kit\\n- Sun protection (hat, sunglasses, sunscreen)\\n- Insect repellent\\n- Portable phone charger or power bank\\n- Emergency whistle\\n\\n2. Fitness and Health\\n- Train and prepare for high altitude hiking\\n- Consult with a doctor if you have any health conditions\\n- Pack necessary medication and first aid supplies\\n- Stay hydrated and eat nutritious meals before and during the trip\\n- Get enough rest before and during the trip\\n\\n3. Permits and Reservations\\n- Check for any required permits or reservations for the hiking trail or campsites\\n- Make reservations for accommodations (campgrounds, hotels, etc.) in advance\\n- Purchase a National Park pass if planning to visit multiple parks in Colorado\\n- Research and plan for any fees or parking passes needed for the hiking trail or park.'"
      ]
     },
     "execution_count": 7,
     "metadata": {},
     "output_type": "execute_result"
    }
   ],
   "source": [
    "result"
   ]
  },
  {
   "cell_type": "code",
   "execution_count": 13,
   "id": "3eff4fc3",
   "metadata": {},
   "outputs": [
    {
     "name": "stdout",
     "output_type": "stream",
     "text": [
      "<class 'langchain_openai.llms.base.OpenAI'>\n"
     ]
    }
   ],
   "source": [
    "# Display the type of the model and result again, and the result itself\n",
    "print(type(llm))"
   ]
  },
  {
   "cell_type": "code",
   "execution_count": 9,
   "id": "648d22e6",
   "metadata": {},
   "outputs": [
    {
     "name": "stdout",
     "output_type": "stream",
     "text": [
      "<class 'str'>\n"
     ]
    }
   ],
   "source": [
    "print(type(result))"
   ]
  },
  {
   "cell_type": "code",
   "execution_count": null,
   "id": "c11c2c21",
   "metadata": {},
   "outputs": [],
   "source": []
  }
 ],
 "metadata": {
  "kernelspec": {
   "display_name": "Python 3 (ipykernel)",
   "language": "python",
   "name": "python3"
  },
  "language_info": {
   "codemirror_mode": {
    "name": "ipython",
    "version": 3
   },
   "file_extension": ".py",
   "mimetype": "text/x-python",
   "name": "python",
   "nbconvert_exporter": "python",
   "pygments_lexer": "ipython3",
   "version": "3.9.1"
  }
 },
 "nbformat": 4,
 "nbformat_minor": 5
}
