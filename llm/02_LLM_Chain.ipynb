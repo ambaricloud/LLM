{
 "cells": [
  {
   "cell_type": "code",
   "execution_count": 19,
   "id": "19d1f4da",
   "metadata": {},
   "outputs": [],
   "source": [
    "import langchain\n",
    "import os\n",
    "from langchain.schema import HumanMessage, SystemMessage, AIMessage\n",
    "from langchain_openai import ChatOpenAI\n",
    "from langchain_openai import OpenAIEmbeddings"
   ]
  },
  {
   "cell_type": "code",
   "execution_count": 20,
   "id": "3509da26",
   "metadata": {},
   "outputs": [],
   "source": [
    "from dotenv import load_dotenv\n",
    "load_dotenv()\n",
    "import openai\n",
    "openai.api_key = os.getenv(\"OPENAI_API_KEY\")"
   ]
  },
  {
   "cell_type": "code",
   "execution_count": 21,
   "id": "052e008d",
   "metadata": {},
   "outputs": [],
   "source": [
    "#from langchain.llms import OpenAI\n",
    "from langchain_openai import OpenAI\n",
    "llm = OpenAI()"
   ]
  },
  {
   "cell_type": "code",
   "execution_count": 22,
   "id": "949a1513",
   "metadata": {},
   "outputs": [],
   "source": [
    "from langchain.prompts import PromptTemplate\n",
    "from langchain.chains import LLMChain"
   ]
  },
  {
   "cell_type": "code",
   "execution_count": 23,
   "id": "1ece1e4d",
   "metadata": {},
   "outputs": [],
   "source": [
    "# Define a prompt template\n",
    "prompt = PromptTemplate(\n",
    "    input_variables=[\"topic\"],\n",
    "    template=\"Write a detailed article about {topic}.\"\n",
    ")"
   ]
  },
  {
   "cell_type": "code",
   "execution_count": 24,
   "id": "74029abf",
   "metadata": {},
   "outputs": [],
   "source": [
    "# Use the LLM in a chain\n",
    "chain = LLMChain(llm=llm, prompt=prompt)\n",
    "# Run the chain\n",
    "response = chain.run(topic=\"Artificial Intelligence\")"
   ]
  },
  {
   "cell_type": "code",
   "execution_count": 25,
   "id": "383f1742",
   "metadata": {},
   "outputs": [
    {
     "name": "stdout",
     "output_type": "stream",
     "text": [
      "\n",
      "\n",
      "Artificial Intelligence (AI) is a rapidly advancing field that has been making waves in recent years. It is a branch of computer science that involves creating intelligent machines that can think, learn, and solve problems in a way that is similar to human intelligence. AI has the potential to revolutionize the way we live and work, and its applications are far-reaching, from self-driving cars to virtual personal assistants.\n",
      "\n",
      "The concept of AI dates back to ancient Greece, where philosophers and scientists explored the idea of creating machines that could mimic human thought. However, it wasn't until the 20th century that significant progress was made in this field. In 1956, computer scientist John McCarthy coined the term \"Artificial Intelligence\" and organized the first AI conference at Dartmouth College, which marked the birth of AI as a formal academic discipline.\n",
      "\n",
      "AI is based on the idea of creating intelligent machines that can perform tasks that would typically require human intelligence, such as problem-solving, understanding language, and recognizing patterns. To achieve this, AI researchers use various techniques, including machine learning, natural language processing, and computer vision.\n",
      "\n",
      "Machine learning is a subset of AI that involves training machines to learn from data and improve their performance without explicitly being programmed. It is a crucial aspect of AI, as\n"
     ]
    }
   ],
   "source": [
    "print(response)"
   ]
  },
  {
   "cell_type": "code",
   "execution_count": 26,
   "id": "165a5236",
   "metadata": {},
   "outputs": [],
   "source": [
    "from langchain.prompts import PromptTemplate\n",
    "from langchain.llms import OpenAI\n",
    "from langchain_core.output_parsers import StrOutputParser\n",
    "from langchain_core.prompts import ChatPromptTemplate\n",
    "prompt = PromptTemplate(template=\"What do you know about {topic}?\", input_variables=[\"topic\"])\n",
    "\n",
    "# Combine Prompt and LLM using RunnableSequence\n",
    "chain = prompt | llm | StrOutputParser()\n"
   ]
  },
  {
   "cell_type": "code",
   "execution_count": 27,
   "id": "f54763dc",
   "metadata": {},
   "outputs": [
    {
     "data": {
      "text/plain": [
       "'\\n\\n- Bears are large, carnivorous mammals belonging to the family Ursidae.\\n- There are eight species of bears: American black bear, brown bear, polar bear, Asiatic black bear, sloth bear, sun bear, spectacled bear, and giant panda.\\n- They can be found in various parts of the world, including North America, South America, Europe, and Asia.\\n- Bears have a distinctive physical appearance with a stocky body, short legs, and a large head with a long snout.\\n- They have a thick fur coat that can range in color from black, brown, white, or a combination of these colors.\\n- Bears are omnivores and their diet can include plants, berries, insects, fish, and small mammals.\\n- They have a strong sense of smell and excellent hearing, but their eyesight is relatively poor.\\n- Bears are known for their hibernation behavior during the winter months, where they will enter a deep sleep to conserve energy.\\n- They are generally solitary animals, except for females with cubs, and will typically avoid human contact.\\n- Bears can be dangerous if provoked or if they feel their cubs are in danger, but they are not typically aggressive towards humans.\\n- Some species of bears, such'"
      ]
     },
     "execution_count": 27,
     "metadata": {},
     "output_type": "execute_result"
    }
   ],
   "source": [
    "chain.invoke({\"topic\": \"bears\"})"
   ]
  },
  {
   "cell_type": "code",
   "execution_count": null,
   "id": "fb4edba1",
   "metadata": {},
   "outputs": [],
   "source": []
  },
  {
   "cell_type": "code",
   "execution_count": 28,
   "id": "52872c45",
   "metadata": {},
   "outputs": [],
   "source": [
    "# Define a prompt template\n",
    "prompt = PromptTemplate(\n",
    "    input_variables=[\"topic\"],\n",
    "    template=\"Write a detailed article about {topic}.\"\n",
    ")"
   ]
  },
  {
   "cell_type": "code",
   "execution_count": 29,
   "id": "a0814e00",
   "metadata": {},
   "outputs": [],
   "source": [
    "llm = OpenAI(model_name=\"gpt-3.5-turbo-instruct\", temperature=0.7)"
   ]
  },
  {
   "cell_type": "code",
   "execution_count": 32,
   "id": "bfcb81f1",
   "metadata": {},
   "outputs": [],
   "source": [
    "chain = LLMChain(llm=llm, prompt=prompt)\n",
    "# Run the chain\n",
    "response = chain.run(topic=\"bears\")"
   ]
  },
  {
   "cell_type": "code",
   "execution_count": 33,
   "id": "04478236",
   "metadata": {},
   "outputs": [
    {
     "data": {
      "text/plain": [
       "'\\n\\nBears are one of the most iconic and beloved animals known to mankind. With their large and powerful bodies, sharp claws, and fearsome roars, bears have long captured our imaginations and held a special place in our hearts. But there is much more to these magnificent creatures than meets the eye. In this article, we will explore the world of bears, from their physical characteristics to their behavior and habitat, shedding light on the fascinating lives of these majestic animals.\\n\\nPhysical Characteristics\\n\\nBears are a part of the Ursidae family, which includes eight species: the polar bear, brown bear, American black bear, Asiatic black bear, sun bear, sloth bear, spectacled bear, and giant panda. They are found in various habitats around the world, from the Arctic to the tropics, and are the largest land carnivores on Earth.\\n\\nOne of the most distinguishing features of bears is their large and stocky bodies. They have a thick layer of fat and a dense fur coat that helps them to stay warm in cold climates. Bears also have large paws with strong claws that they use for digging, climbing, and catching prey. Their front claws are particularly long and curved, making them excellent predators.\\n\\nAnother notable physical characteristic of bears is their'"
      ]
     },
     "execution_count": 33,
     "metadata": {},
     "output_type": "execute_result"
    }
   ],
   "source": [
    "response"
   ]
  },
  {
   "cell_type": "code",
   "execution_count": null,
   "id": "c9496137",
   "metadata": {},
   "outputs": [],
   "source": []
  }
 ],
 "metadata": {
  "kernelspec": {
   "display_name": "Python 3 (ipykernel)",
   "language": "python",
   "name": "python3"
  },
  "language_info": {
   "codemirror_mode": {
    "name": "ipython",
    "version": 3
   },
   "file_extension": ".py",
   "mimetype": "text/x-python",
   "name": "python",
   "nbconvert_exporter": "python",
   "pygments_lexer": "ipython3",
   "version": "3.9.1"
  }
 },
 "nbformat": 4,
 "nbformat_minor": 5
}
