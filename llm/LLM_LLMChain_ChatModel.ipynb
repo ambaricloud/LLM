{
 "cells": [
  {
   "cell_type": "code",
   "execution_count": 1,
   "id": "19d1f4da",
   "metadata": {},
   "outputs": [],
   "source": [
    "import langchain\n",
    "import os\n",
    "from langchain.schema import HumanMessage, SystemMessage, AIMessage\n",
    "from langchain_openai import ChatOpenAI\n",
    "from langchain_openai import OpenAIEmbeddings"
   ]
  },
  {
   "cell_type": "code",
   "execution_count": 2,
   "id": "8149a67e",
   "metadata": {},
   "outputs": [],
   "source": [
    "from dotenv import load_dotenv\n",
    "load_dotenv()\n",
    "import openai\n",
    "openai.api_key = os.getenv(\"OPENAI_API_KEY\")"
   ]
  },
  {
   "cell_type": "markdown",
   "id": "cae02b9d",
   "metadata": {},
   "source": [
    "# LLM"
   ]
  },
  {
   "cell_type": "code",
   "execution_count": 3,
   "id": "1e6ad503",
   "metadata": {},
   "outputs": [
    {
     "data": {
      "text/plain": [
       "'\\n\\nThe best place to see Orcas (also known as killer whales) in the US is in the Pacific Northwest region, specifically in the San Juan Islands in Washington state. This region is known for its large population of resident Orcas that can be seen year-round. Other popular locations for Orcas sightings include Monterey Bay in California and the waters off of Alaska.'"
      ]
     },
     "execution_count": 3,
     "metadata": {},
     "output_type": "execute_result"
    }
   ],
   "source": [
    "from langchain_openai import OpenAI\n",
    "\n",
    "llm = OpenAI()\n",
    "llm.invoke(\"What is the best place to see Orcas in the US?\")"
   ]
  },
  {
   "cell_type": "code",
   "execution_count": null,
   "id": "8430cf85",
   "metadata": {},
   "outputs": [],
   "source": []
  },
  {
   "cell_type": "markdown",
   "id": "d2820f5c",
   "metadata": {},
   "source": [
    "# LLMChain"
   ]
  },
  {
   "cell_type": "code",
   "execution_count": 4,
   "id": "2cf97dfc",
   "metadata": {},
   "outputs": [
    {
     "name": "stderr",
     "output_type": "stream",
     "text": [
      "/var/folders/vx/5pz6y7b56m7cgvq55gr0yw6r0000gn/T/ipykernel_97971/4136891393.py:9: LangChainDeprecationWarning: The class `LLMChain` was deprecated in LangChain 0.1.17 and will be removed in 1.0. Use :meth:`~RunnableSequence, e.g., `prompt | llm`` instead.\n",
      "  llm_chain = LLMChain(llm=llm, prompt=prompt)\n",
      "/var/folders/vx/5pz6y7b56m7cgvq55gr0yw6r0000gn/T/ipykernel_97971/4136891393.py:11: LangChainDeprecationWarning: The method `Chain.run` was deprecated in langchain 0.1.0 and will be removed in 1.0. Use :meth:`~invoke` instead.\n",
      "  response = llm_chain.run({\"text\": \"What is the best place to see Orcas in the US.\"})\n"
     ]
    },
    {
     "name": "stdout",
     "output_type": "stream",
     "text": [
      "\n",
      "\n",
      "The best place to see Orcas in the US is not specified.\n"
     ]
    }
   ],
   "source": [
    "from langchain.chains import LLMChain\n",
    "from langchain.prompts import PromptTemplate\n",
    "from langchain.llms import OpenAI\n",
    "\n",
    "prompt = PromptTemplate(\n",
    "    input_variables=[\"text\"], \n",
    "    template=\"Summarize the following text: {text}\"\n",
    ")\n",
    "llm_chain = LLMChain(llm=llm, prompt=prompt)\n",
    "                     \n",
    "response = llm_chain.run({\"text\": \"What is the best place to see Orcas in the US.\"})\n",
    "print(response)"
   ]
  },
  {
   "cell_type": "code",
   "execution_count": null,
   "id": "4469c4db",
   "metadata": {},
   "outputs": [],
   "source": []
  },
  {
   "cell_type": "markdown",
   "id": "cea03ced",
   "metadata": {},
   "source": [
    "# ChatOpenAI"
   ]
  },
  {
   "cell_type": "code",
   "execution_count": 5,
   "id": "47acc515",
   "metadata": {},
   "outputs": [
    {
     "name": "stderr",
     "output_type": "stream",
     "text": [
      "/var/folders/vx/5pz6y7b56m7cgvq55gr0yw6r0000gn/T/ipykernel_97971/2237385368.py:5: LangChainDeprecationWarning: The class `ChatOpenAI` was deprecated in LangChain 0.0.10 and will be removed in 1.0. An updated version of the class exists in the :class:`~langchain-openai package and should be used instead. To use it run `pip install -U :class:`~langchain-openai` and import as `from :class:`~langchain_openai import ChatOpenAI``.\n",
      "  chatllm = ChatOpenAI(model=\"gpt-4o\")\n"
     ]
    },
    {
     "name": "stdout",
     "output_type": "stream",
     "text": [
      "One of the best places to see orcas in the United States is the San Juan Islands in Washington State. The waters around these islands, particularly near San Juan Island itself, are known for being a prime habitat for orcas, especially during the summer months. The area is home to both resident and transient orca pods, and there are numerous whale-watching tours available that depart from towns like Friday Harbor. The surrounding waters' rich marine life makes it an ideal spot for observing these magnificent creatures in their natural environment.\n"
     ]
    }
   ],
   "source": [
    "from langchain.chat_models import ChatOpenAI\n",
    "from langchain.chains import ConversationChain\n",
    "from langchain_core.messages import HumanMessage, SystemMessage\n",
    "\n",
    "chatllm = ChatOpenAI(model=\"gpt-4o\")\n",
    "\n",
    "# Define conversation\n",
    "messages = [\n",
    "    HumanMessage(content=\"What is the best place to see Orcas in the US?\", name=\"Lance\"),\n",
    "]\n",
    "\n",
    "result = chatllm.invoke(messages)\n",
    "print(result.content) "
   ]
  },
  {
   "cell_type": "code",
   "execution_count": 6,
   "id": "0130e596",
   "metadata": {},
   "outputs": [
    {
     "data": {
      "text/plain": [
       "AIMessage(content=\"One of the best places to see orcas in the United States is the San Juan Islands in Washington State. The waters around these islands, particularly near San Juan Island itself, are known for being a prime habitat for orcas, especially during the summer months. The area is home to both resident and transient orca pods, and there are numerous whale-watching tours available that depart from towns like Friday Harbor. The surrounding waters' rich marine life makes it an ideal spot for observing these magnificent creatures in their natural environment.\", additional_kwargs={}, response_metadata={'token_usage': {'completion_tokens': 105, 'prompt_tokens': 20, 'total_tokens': 125, 'completion_tokens_details': {'accepted_prediction_tokens': 0, 'audio_tokens': 0, 'reasoning_tokens': 0, 'rejected_prediction_tokens': 0}, 'prompt_tokens_details': {'audio_tokens': 0, 'cached_tokens': 0}}, 'model_name': 'gpt-4o', 'system_fingerprint': 'fp_50cad350e4', 'finish_reason': 'stop', 'logprobs': None}, id='run-d464d5d6-0dc6-481e-9170-1705984c901d-0')"
      ]
     },
     "execution_count": 6,
     "metadata": {},
     "output_type": "execute_result"
    }
   ],
   "source": [
    "result"
   ]
  },
  {
   "cell_type": "code",
   "execution_count": null,
   "id": "04d373c7",
   "metadata": {},
   "outputs": [],
   "source": []
  },
  {
   "cell_type": "code",
   "execution_count": null,
   "id": "8a78c7e3",
   "metadata": {},
   "outputs": [],
   "source": []
  },
  {
   "cell_type": "code",
   "execution_count": null,
   "id": "18fdbf9a",
   "metadata": {},
   "outputs": [],
   "source": []
  }
 ],
 "metadata": {
  "kernelspec": {
   "display_name": "Python 3 (ipykernel)",
   "language": "python",
   "name": "python3"
  },
  "language_info": {
   "codemirror_mode": {
    "name": "ipython",
    "version": 3
   },
   "file_extension": ".py",
   "mimetype": "text/x-python",
   "name": "python",
   "nbconvert_exporter": "python",
   "pygments_lexer": "ipython3",
   "version": "3.9.1"
  }
 },
 "nbformat": 4,
 "nbformat_minor": 5
}
