{
 "cells": [
  {
   "cell_type": "code",
   "execution_count": null,
   "id": "2ece59d6",
   "metadata": {},
   "outputs": [],
   "source": [
    "import os\n",
    "from dotenv import load_dotenv\n",
    "import openai\n",
    "import json\n",
    "import boto3\n",
    "import findspark\n",
    "from pyspark.sql import *\n",
    "from pyspark import SparkConf, SparkContext\n",
    "from py4j.java_gateway import java_import\n",
    "findspark.init()\n",
    "from pyspark.sql import SparkSession\n",
    "import csv\n",
    "import io\n",
    "from urllib.parse import urlparse\n",
    "\n",
    "import pandasai as pai\n",
    "from pandasai_openai import OpenAI\n",
    "import pandas as pd\n",
    "import snowflake.connector\n",
    "\n"
   ]
  },
  {
   "cell_type": "code",
   "execution_count": null,
   "id": "6b846160",
   "metadata": {},
   "outputs": [],
   "source": [
    "full_path_to_warehouse = \"/tmp/ozone1/warehouse\"\n",
    "hive_warehouse =\"/tmp/ozone1/warehouse\""
   ]
  },
  {
   "cell_type": "code",
   "execution_count": null,
   "id": "50a964ea",
   "metadata": {},
   "outputs": [],
   "source": [
    "spark = SparkSession.builder \\\n",
    "        .config('spark.jars.packages', 'org.apache.hadoop:hadoop-aws:3.3.4,org.apache.iceberg:iceberg-spark-runtime-3.5_2.12:1.8.0,software.amazon.awssdk:bundle:2.17.178,software.amazon.awssdk:url-connection-client:2.17.178')\\\n",
    "        .config(\"spark.sql.extensions\", \"org.apache.iceberg.spark.extensions.IcebergSparkSessionExtensions\") \\\n",
    "        .config(\"spark.sql.catalog.spark_catalog\",\"org.apache.iceberg.spark.SparkSessionCatalog\") \\\n",
    "        .config(\"spark.sql.catalog.spark_catalog.type\",\"hadoop\") \\\n",
    "        .config(\"spark.sql.catalog.spark_catalog.warehouse\",hive_warehouse) \\\n",
    "        .config(\"spark.sql.warehouse.dir\",hive_warehouse) \\\n",
    "        .config(\"spark.sql.catalog.iceberg_catalog\",\"org.apache.iceberg.spark.SparkCatalog\") \\\n",
    "        .config(\"spark.sql.catalog.iceberg_catalog.type\",\"hadoop\") \\\n",
    "        .config(\"spark.sql.catalog.iceberg_catalog.warehouse\",hive_warehouse) \\\n",
    "        .getOrCreate()"
   ]
  },
  {
   "cell_type": "code",
   "execution_count": null,
   "id": "1add6a2f",
   "metadata": {},
   "outputs": [],
   "source": [
    "spark.sql(f\"\"\"CREATE TABLE IF NOT EXISTS iceberg_catalog.prod.exam_scores (\n",
    "  score_id int,\n",
    "  exam_id int,\n",
    "  student_id int,\n",
    "  score real,\n",
    "  exam_date date\n",
    ") \n",
    "\"\"\")"
   ]
  },
  {
   "cell_type": "code",
   "execution_count": null,
   "id": "4c18fc59",
   "metadata": {},
   "outputs": [],
   "source": [
    "spark.sql(f\"\"\"INSERT INTO iceberg_catalog.prod.exam_scores (score_id, exam_id, student_id, score, exam_date)\n",
    "VALUES\n",
    "  (1, 101, 1001, 95.5, date '2022-01-10'),\n",
    "  (2, 101, 1002, 75.5, date '2022-01-10'),\n",
    "  (3, 101, 1003, 65.5, date '2022-01-10')\n",
    " \"\"\")"
   ]
  },
  {
   "cell_type": "code",
   "execution_count": null,
   "id": "52709aba",
   "metadata": {},
   "outputs": [],
   "source": [
    "spark.sql(f\"\"\"CREATE TABLE IF NOT EXISTS iceberg_catalog.prod.students (\n",
    "  student_id int,\n",
    "  name string\n",
    ") \n",
    "\"\"\")"
   ]
  },
  {
   "cell_type": "code",
   "execution_count": null,
   "id": "fc532d46",
   "metadata": {},
   "outputs": [],
   "source": [
    "spark.sql(f\"\"\"INSERT INTO iceberg_catalog.prod.students (student_id, name)\n",
    "VALUES\n",
    "  (1001, 'Bob'),\n",
    "  (1002, 'Satya'),\n",
    "  (1003, 'John')\n",
    " \"\"\")"
   ]
  },
  {
   "cell_type": "code",
   "execution_count": null,
   "id": "9d5040e0",
   "metadata": {},
   "outputs": [],
   "source": [
    "#df=spark.sql(f\"\"\"delete from iceberg_catalog.prod.exam_scores \"\"\")"
   ]
  },
  {
   "cell_type": "code",
   "execution_count": null,
   "id": "0ace2f05",
   "metadata": {},
   "outputs": [],
   "source": [
    "df.show()"
   ]
  },
  {
   "cell_type": "code",
   "execution_count": null,
   "id": "d8791ccb",
   "metadata": {},
   "outputs": [],
   "source": [
    "spark.sql(f\"\"\"CREATE TABLE IF NOT EXISTS iceberg_catalog.prod.address (\n",
    "  student_id int,\n",
    "  addrs string,\n",
    "  city string,\n",
    "  State string\n",
    ") \n",
    "\"\"\")"
   ]
  },
  {
   "cell_type": "code",
   "execution_count": null,
   "id": "7a83e3f8",
   "metadata": {},
   "outputs": [],
   "source": [
    "spark.sql(f\"\"\"INSERT INTO iceberg_catalog.prod.address (student_id, addrs,city, state)\n",
    "VALUES\n",
    "  (1001, '1234 Sandy', 'Bolingbrook', 'IL'),\n",
    "  (1002, '919  Fairways', 'Naperville', 'IL'),\n",
    "  (1003, '34564 fox vally', 'RiverSide', 'CA')\n",
    " \"\"\")"
   ]
  },
  {
   "cell_type": "code",
   "execution_count": null,
   "id": "2f25723f",
   "metadata": {},
   "outputs": [],
   "source": [
    "spark.sql(f\"\"\"select * from  iceberg_catalog.prod.exam_scores \"\"\").show(10,10)\n",
    " "
   ]
  },
  {
   "cell_type": "code",
   "execution_count": null,
   "id": "0f36396b",
   "metadata": {},
   "outputs": [],
   "source": [
    "spark.sql(f\"\"\"select * from  iceberg_catalog.prod.students \"\"\").show(10,10)\n",
    " "
   ]
  },
  {
   "cell_type": "code",
   "execution_count": null,
   "id": "a4e47ef0",
   "metadata": {},
   "outputs": [],
   "source": [
    "spark.sql(f\"\"\"select * from  iceberg_catalog.prod.address \"\"\").show(10,10)\n",
    " "
   ]
  },
  {
   "cell_type": "code",
   "execution_count": null,
   "id": "c9a7c807",
   "metadata": {},
   "outputs": [],
   "source": []
  }
 ],
 "metadata": {
  "kernelspec": {
   "display_name": "Python 3 (ipykernel)",
   "language": "python",
   "name": "python3"
  },
  "language_info": {
   "codemirror_mode": {
    "name": "ipython",
    "version": 3
   },
   "file_extension": ".py",
   "mimetype": "text/x-python",
   "name": "python",
   "nbconvert_exporter": "python",
   "pygments_lexer": "ipython3",
   "version": "3.9.1"
  }
 },
 "nbformat": 4,
 "nbformat_minor": 5
}
