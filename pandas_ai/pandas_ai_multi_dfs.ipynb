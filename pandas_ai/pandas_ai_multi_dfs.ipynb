{
 "cells": [
  {
   "cell_type": "code",
   "execution_count": null,
   "id": "2ece59d6",
   "metadata": {},
   "outputs": [],
   "source": [
    "import os\n",
    "from dotenv import load_dotenv\n",
    "import openai\n",
    "import json\n",
    "import boto3\n",
    "import findspark\n",
    "from pyspark.sql import *\n",
    "from pyspark import SparkConf, SparkContext\n",
    "from py4j.java_gateway import java_import\n",
    "findspark.init()\n",
    "from pyspark.sql import SparkSession\n",
    "import csv\n",
    "import io\n",
    "from urllib.parse import urlparse\n",
    "\n",
    "import pandasai as pai\n",
    "from pandasai_openai import OpenAI\n",
    "import pandas as pd\n",
    "import snowflake.connector\n"
   ]
  },
  {
   "cell_type": "code",
   "execution_count": null,
   "id": "a7de18f9",
   "metadata": {},
   "outputs": [],
   "source": [
    "!rm /Users/satyak/iceberg/milvus/class/cache/cache_db_0.12.db"
   ]
  },
  {
   "cell_type": "code",
   "execution_count": null,
   "id": "685c8624",
   "metadata": {},
   "outputs": [],
   "source": [
    "load_dotenv()\n",
    "openai_api_key=os.getenv(\"OPENAI_API_KEY\")\n",
    "\n",
    "llm = OpenAI(api_token=openai_api_key)\n",
    "pai.config.set({\"llm\": llm,})"
   ]
  },
  {
   "cell_type": "code",
   "execution_count": null,
   "id": "42079775",
   "metadata": {},
   "outputs": [],
   "source": [
    "import pandasai as pai\n",
    "\n",
    "employees_data = {\n",
    "    'EmployeeID': [1, 2, 3, 4, 5],\n",
    "    'Name': ['John', 'Emma', 'Liam', 'Olivia', 'William'],\n",
    "    'Department': ['HR', 'Sales', 'IT', 'Marketing', 'Finance']\n",
    "}\n",
    "\n",
    "salaries_data = {\n",
    "    'EmployeeID': [1, 2, 3, 4, 5],\n",
    "    'Salary': [5000, 6000, 4500, 7000, 5500]\n",
    "}\n",
    "\n",
    "Address = {\n",
    "    'EmployeeID': [1, 2, 3, 4, 5],\n",
    "    'Address': [{'city':'Hyd','State':'TG'}, {'city':'Hyd','State':'TG'}, {'city':'Hyd','State':'TG'}, {'city':'Hyd','State':'TG'}, {'city':'Chicago','State':'IL'}]\n",
    "}\n",
    "employees_df = pai.DataFrame(employees_data)\n",
    "salaries_df = pai.DataFrame(salaries_data)\n",
    "Address_df =pai.DataFrame(Address)\n",
    "\n"
   ]
  },
  {
   "cell_type": "code",
   "execution_count": null,
   "id": "56596782",
   "metadata": {},
   "outputs": [],
   "source": [
    "###"
   ]
  },
  {
   "cell_type": "code",
   "execution_count": null,
   "id": "7a83e3f8",
   "metadata": {},
   "outputs": [],
   "source": [
    "\n",
    "pai.chat(\"Who gets paid the most?\", employees_df, salaries_df,Address_df)"
   ]
  },
  {
   "cell_type": "code",
   "execution_count": null,
   "id": "a9d63d3f",
   "metadata": {},
   "outputs": [],
   "source": [
    "pai.chat(\"WWhic State Has More Employees?\", employees_df, salaries_df,Address_df)"
   ]
  },
  {
   "cell_type": "code",
   "execution_count": null,
   "id": "b02b50e6",
   "metadata": {},
   "outputs": [],
   "source": [
    "pai.chat(\"Show me all Chicago Employees?\", employees_df, salaries_df,Address_df)"
   ]
  },
  {
   "cell_type": "code",
   "execution_count": null,
   "id": "0078bc2a",
   "metadata": {},
   "outputs": [],
   "source": [
    "pai.chat(\"Show me all Chicago Employees?\", employees_df,Address_df)"
   ]
  },
  {
   "cell_type": "code",
   "execution_count": null,
   "id": "3d148d17",
   "metadata": {},
   "outputs": [],
   "source": []
  }
 ],
 "metadata": {
  "kernelspec": {
   "display_name": "Python 3 (ipykernel)",
   "language": "python",
   "name": "python3"
  },
  "language_info": {
   "codemirror_mode": {
    "name": "ipython",
    "version": 3
   },
   "file_extension": ".py",
   "mimetype": "text/x-python",
   "name": "python",
   "nbconvert_exporter": "python",
   "pygments_lexer": "ipython3",
   "version": "3.9.1"
  }
 },
 "nbformat": 4,
 "nbformat_minor": 5
}
