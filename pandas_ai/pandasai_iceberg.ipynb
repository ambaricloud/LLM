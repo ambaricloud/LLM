{
 "cells": [
  {
   "cell_type": "code",
   "execution_count": null,
   "id": "2ece59d6",
   "metadata": {},
   "outputs": [],
   "source": [
    "import os\n",
    "from dotenv import load_dotenv\n",
    "import openai\n",
    "import json\n",
    "import boto3\n",
    "import findspark\n",
    "from pyspark.sql import *\n",
    "from pyspark import SparkConf, SparkContext\n",
    "from py4j.java_gateway import java_import\n",
    "findspark.init()\n",
    "from pyspark.sql import SparkSession\n",
    "import csv\n",
    "import io\n",
    "from urllib.parse import urlparse\n",
    "\n",
    "import pandasai as pai\n",
    "from pandasai_openai import OpenAI\n",
    "import pandas as pd\n",
    "import snowflake.connector\n",
    "\n"
   ]
  },
  {
   "cell_type": "code",
   "execution_count": null,
   "id": "43330fa4",
   "metadata": {},
   "outputs": [],
   "source": [
    "!rm /Users/satyak/iceberg/milvus/class/cache/cache_db_0.12.db"
   ]
  },
  {
   "cell_type": "code",
   "execution_count": null,
   "id": "6b846160",
   "metadata": {},
   "outputs": [],
   "source": [
    "full_path_to_warehouse = \"/tmp/ozone1/warehouse\"\n",
    "hive_warehouse =\"/tmp/ozone1/warehouse\""
   ]
  },
  {
   "cell_type": "code",
   "execution_count": null,
   "id": "685c8624",
   "metadata": {},
   "outputs": [],
   "source": [
    "load_dotenv()\n",
    "openai_api_key=os.getenv(\"OPENAI_API_KEY\")\n",
    "\n",
    "llm = OpenAI(api_token=openai_api_key)\n",
    "pai.config.set({\"llm\": llm,})"
   ]
  },
  {
   "cell_type": "code",
   "execution_count": null,
   "id": "50a964ea",
   "metadata": {},
   "outputs": [],
   "source": [
    "spark = SparkSession.builder \\\n",
    "        .config('spark.jars.packages', 'org.apache.hadoop:hadoop-aws:3.3.4,org.apache.iceberg:iceberg-spark-runtime-3.5_2.12:1.8.0,software.amazon.awssdk:bundle:2.17.178,software.amazon.awssdk:url-connection-client:2.17.178')\\\n",
    "        .config(\"spark.sql.extensions\", \"org.apache.iceberg.spark.extensions.IcebergSparkSessionExtensions\") \\\n",
    "        .config(\"spark.sql.catalog.spark_catalog\",\"org.apache.iceberg.spark.SparkSessionCatalog\") \\\n",
    "        .config(\"spark.sql.catalog.spark_catalog.type\",\"hadoop\") \\\n",
    "        .config(\"spark.sql.catalog.spark_catalog.warehouse\",hive_warehouse) \\\n",
    "        .config(\"spark.sql.warehouse.dir\",hive_warehouse) \\\n",
    "        .config(\"spark.sql.catalog.iceberg_catalog\",\"org.apache.iceberg.spark.SparkCatalog\") \\\n",
    "        .config(\"spark.sql.catalog.iceberg_catalog.type\",\"hadoop\") \\\n",
    "        .config(\"spark.sql.catalog.iceberg_catalog.warehouse\",hive_warehouse) \\\n",
    "        .getOrCreate()"
   ]
  },
  {
   "cell_type": "code",
   "execution_count": null,
   "id": "9d5040e0",
   "metadata": {},
   "outputs": [],
   "source": [
    "score=spark.sql(f\"\"\"select * from  iceberg_catalog.prod.exam_scores \"\"\")"
   ]
  },
  {
   "cell_type": "code",
   "execution_count": null,
   "id": "0ace2f05",
   "metadata": {},
   "outputs": [],
   "source": [
    "score.show()"
   ]
  },
  {
   "cell_type": "code",
   "execution_count": null,
   "id": "55a57953",
   "metadata": {},
   "outputs": [],
   "source": [
    "score_pandas_df = score.toPandas()"
   ]
  },
  {
   "cell_type": "code",
   "execution_count": null,
   "id": "726eb5b1",
   "metadata": {},
   "outputs": [],
   "source": [
    "names=spark.sql(f\"\"\"select * from  iceberg_catalog.prod.students \"\"\")\n",
    "names.show()"
   ]
  },
  {
   "cell_type": "code",
   "execution_count": null,
   "id": "60b255d6",
   "metadata": {},
   "outputs": [],
   "source": [
    "names_pandas_df = names.toPandas()"
   ]
  },
  {
   "cell_type": "markdown",
   "id": "5b53ad38",
   "metadata": {},
   "source": [
    "### Convert pd to pai datafram"
   ]
  },
  {
   "cell_type": "code",
   "execution_count": null,
   "id": "f33a38f0",
   "metadata": {},
   "outputs": [],
   "source": [
    "score_pai = pai.DataFrame(score_pandas_df)\n",
    "names_pai = pai.DataFrame(names_pandas_df)\n"
   ]
  },
  {
   "cell_type": "code",
   "execution_count": null,
   "id": "4e6bf7b6",
   "metadata": {},
   "outputs": [],
   "source": [
    "pai.chat(\"How many rows are there\",score_pai,names_pai)"
   ]
  },
  {
   "cell_type": "code",
   "execution_count": null,
   "id": "43c0b204",
   "metadata": {},
   "outputs": [],
   "source": [
    "pai.chat(\"show who  has top score. Show in row format. Don't show graph\",score_pai,names_pai)"
   ]
  },
  {
   "cell_type": "code",
   "execution_count": null,
   "id": "c5693037",
   "metadata": {},
   "outputs": [],
   "source": [
    "pai.chat(\"show who  has top score. Show in row format. Don't show graph\",score_pai)"
   ]
  },
  {
   "cell_type": "code",
   "execution_count": null,
   "id": "7a83e3f8",
   "metadata": {},
   "outputs": [],
   "source": []
  }
 ],
 "metadata": {
  "kernelspec": {
   "display_name": "Python 3 (ipykernel)",
   "language": "python",
   "name": "python3"
  },
  "language_info": {
   "codemirror_mode": {
    "name": "ipython",
    "version": 3
   },
   "file_extension": ".py",
   "mimetype": "text/x-python",
   "name": "python",
   "nbconvert_exporter": "python",
   "pygments_lexer": "ipython3",
   "version": "3.9.1"
  }
 },
 "nbformat": 4,
 "nbformat_minor": 5
}
