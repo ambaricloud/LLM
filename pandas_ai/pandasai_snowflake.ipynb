{
 "cells": [
  {
   "cell_type": "code",
   "execution_count": null,
   "id": "2ece59d6",
   "metadata": {},
   "outputs": [],
   "source": [
    "\n",
    "import os\n",
    "from dotenv import load_dotenv\n",
    "import json\n",
    "import boto3\n",
    "\n",
    "import pandas as pd\n",
    "import snowflake.connector\n",
    "import pandasai as pai\n",
    "from pandasai_openai import OpenAI\n",
    "\n",
    "\n",
    "from dotenv import load_dotenv\n"
   ]
  },
  {
   "cell_type": "code",
   "execution_count": null,
   "id": "08d2bebe",
   "metadata": {},
   "outputs": [],
   "source": [
    "!rm /Users/satyak/iceberg/milvus/class/cache/cache_db_0.12.db"
   ]
  },
  {
   "cell_type": "code",
   "execution_count": null,
   "id": "b6943750",
   "metadata": {},
   "outputs": [],
   "source": [
    "#!pip install pandasai_openai"
   ]
  },
  {
   "cell_type": "code",
   "execution_count": null,
   "id": "3e893cf5",
   "metadata": {},
   "outputs": [],
   "source": [
    "load_dotenv()\n",
    "openai_api_key=os.getenv(\"OPENAI_API_KEY\")\n",
    "\n",
    "llm = OpenAI(api_token=openai_api_key)\n",
    "pai.config.set({\"llm\": llm,})"
   ]
  },
  {
   "cell_type": "code",
   "execution_count": null,
   "id": "c5b47f9c",
   "metadata": {},
   "outputs": [],
   "source": [
    "sf_user = os.getenv(\"SNOWFLAKE_USER\")\n",
    "sf_password = os.getenv(\"SNOWFLAKE_PASSWORD\")\n",
    "sf_account = os.getenv(\"SNOWFLAKE_ACCOUNT\")"
   ]
  },
  {
   "cell_type": "code",
   "execution_count": null,
   "id": "20541ac8",
   "metadata": {},
   "outputs": [],
   "source": [
    "conn = snowflake.connector.connect(\n",
    "    user=sf_user,\n",
    "    password=sf_password,\n",
    "    account=sf_account, \n",
    "    warehouse=\"ICEBERG_VW\",\n",
    "    database=\"ICEBERG_DB\",\n",
    "    schema=\"SALES\"\n",
    ")"
   ]
  },
  {
   "cell_type": "code",
   "execution_count": null,
   "id": "d1b5fb99",
   "metadata": {},
   "outputs": [],
   "source": [
    "cursor = conn.cursor()\n",
    "cursor.execute(\"select * from iceberg_db.sales.test\")"
   ]
  },
  {
   "cell_type": "code",
   "execution_count": null,
   "id": "f0f95cd6",
   "metadata": {},
   "outputs": [],
   "source": [
    "cursor.execute(\"select * from iceberg_db.sales.test\")"
   ]
  },
  {
   "cell_type": "markdown",
   "id": "b292810f",
   "metadata": {},
   "source": [
    "## Create pai dataframe"
   ]
  },
  {
   "cell_type": "code",
   "execution_count": null,
   "id": "2fde011f",
   "metadata": {},
   "outputs": [],
   "source": [
    "paidf = pai.DataFrame(cursor.fetchall(), columns=[desc[0] for desc in cursor.description])"
   ]
  },
  {
   "cell_type": "code",
   "execution_count": null,
   "id": "4e6bf7b6",
   "metadata": {},
   "outputs": [],
   "source": [
    "paidf.chat(\"How many rows are there\")"
   ]
  },
  {
   "cell_type": "code",
   "execution_count": null,
   "id": "e28cbea4",
   "metadata": {},
   "outputs": [],
   "source": [
    "paidf.chat(\"Find Total of ACCTBAL group by Nation show data in row Format Only Show Top 5. Your are anexpert to and Do not show data in graph format\")"
   ]
  },
  {
   "cell_type": "code",
   "execution_count": null,
   "id": "34a9fb5e",
   "metadata": {},
   "outputs": [],
   "source": []
  },
  {
   "cell_type": "code",
   "execution_count": null,
   "id": "5f1b363c",
   "metadata": {},
   "outputs": [],
   "source": []
  },
  {
   "cell_type": "code",
   "execution_count": null,
   "id": "aaa55439",
   "metadata": {},
   "outputs": [],
   "source": []
  }
 ],
 "metadata": {
  "kernelspec": {
   "display_name": "Python 3 (ipykernel)",
   "language": "python",
   "name": "python3"
  },
  "language_info": {
   "codemirror_mode": {
    "name": "ipython",
    "version": 3
   },
   "file_extension": ".py",
   "mimetype": "text/x-python",
   "name": "python",
   "nbconvert_exporter": "python",
   "pygments_lexer": "ipython3",
   "version": "3.9.1"
  }
 },
 "nbformat": 4,
 "nbformat_minor": 5
}
